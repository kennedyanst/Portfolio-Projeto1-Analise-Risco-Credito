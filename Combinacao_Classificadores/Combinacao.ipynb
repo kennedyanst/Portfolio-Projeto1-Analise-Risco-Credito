{
 "cells": [
  {
   "cell_type": "markdown",
   "metadata": {},
   "source": [
    "# Combinação dos cinco algoritmos classificadores buscando uma melhor acurácia na previsão das classes. "
   ]
  },
  {
   "cell_type": "code",
   "execution_count": 1,
   "metadata": {},
   "outputs": [],
   "source": [
    "import pickle \n",
    "import numpy as np"
   ]
  },
  {
   "cell_type": "code",
   "execution_count": 2,
   "metadata": {},
   "outputs": [],
   "source": [
    "with open(\"base.pkl\", \"rb\") as df:\n",
    "    X_base_treinamento, y_base_treinamento, X_base_teste, y_base_teste = pickle.load(df)"
   ]
  },
  {
   "cell_type": "code",
   "execution_count": 3,
   "metadata": {},
   "outputs": [],
   "source": [
    "X_base = np.concatenate((X_base_treinamento, X_base_teste), axis = 0)\n",
    "y_base = np.concatenate((y_base_treinamento, y_base_teste), axis = 0)"
   ]
  },
  {
   "cell_type": "code",
   "execution_count": 5,
   "metadata": {},
   "outputs": [],
   "source": [
    "arvore_decisao = pickle.load(open(\"arvore_decisao_finalizado.sav\", \"rb\"))\n",
    "random_forest = pickle.load(open(\"random_forest_finalizado.sav\", \"rb\"))\n",
    "knn = pickle.load(open(\"knn_finalizado.sav\", \"rb\"))\n",
    "svm = pickle.load(open(\"svm_finalizado.sav\", \"rb\"))\n",
    "rede_neural = pickle.load(open(\"rede_neural_finalizado.sav\", \"rb\"))"
   ]
  },
  {
   "cell_type": "code",
   "execution_count": 10,
   "metadata": {},
   "outputs": [],
   "source": [
    "#Testando os algoritmos carregados. \n",
    "novo_registro0 = X_base[0] #Paga = 0\n",
    "novo_registro1 = X_base[1999] #Não paga = 1\n",
    "novo_registro0 = novo_registro0.reshape(1,-1) #Colocando em formato de matriz\n",
    "novo_registro1 = novo_registro1.reshape(1,-1) #Colocando em formato de matriz"
   ]
  },
  {
   "cell_type": "code",
   "execution_count": 11,
   "metadata": {},
   "outputs": [
    {
     "data": {
      "text/plain": [
       "(1, 3)"
      ]
     },
     "execution_count": 11,
     "metadata": {},
     "output_type": "execute_result"
    }
   ],
   "source": [
    "novo_registro1.shape"
   ]
  },
  {
   "cell_type": "code",
   "execution_count": 12,
   "metadata": {},
   "outputs": [
    {
     "data": {
      "text/plain": [
       "(1, 3)"
      ]
     },
     "execution_count": 12,
     "metadata": {},
     "output_type": "execute_result"
    }
   ],
   "source": [
    "novo_registro0.shape"
   ]
  },
  {
   "cell_type": "code",
   "execution_count": 19,
   "metadata": {},
   "outputs": [],
   "source": [
    "\n",
    "#IMPLEMENTANDO O IF PARA COMBINAR OS CLASSIFICADORES. \n",
    "\n",
    "# PAGANTES\n",
    "resposta_rede_neural = rede_neural.predict(novo_registro0)\n",
    "resposta_arvore_decisao = arvore_decisao.predict(novo_registro0)\n",
    "resposta_svm = svm.predict(novo_registro0)\n",
    "resposta_random_forest = random_forest.predict(novo_registro0)\n",
    "resposta_knn = knn.predict(novo_registro0)\n",
    "\n",
    "# NÃO-PAGANTES\n",
    "resposta_rede_neural1 = rede_neural.predict(novo_registro1)\n",
    "resposta_arvore_decisao1 = arvore_decisao.predict(novo_registro1)\n",
    "resposta_svm1 = svm.predict(novo_registro1)\n",
    "resposta_random_forest1 = random_forest.predict(novo_registro1)\n",
    "resposta_knn1 = knn.predict(novo_registro1)"
   ]
  },
  {
   "cell_type": "markdown",
   "metadata": {},
   "source": [
    "# Testando com dados de um cliente que pagará o emprestimo\n",
    "* Classe = 0"
   ]
  },
  {
   "cell_type": "code",
   "execution_count": 16,
   "metadata": {},
   "outputs": [
    {
     "data": {
      "text/plain": [
       "(0, 0, 0, 0, 0)"
      ]
     },
     "execution_count": 16,
     "metadata": {},
     "output_type": "execute_result"
    }
   ],
   "source": [
    "resposta_arvore_decisao[0], resposta_random_forest[0], resposta_knn[0], resposta_svm[0], resposta_rede_neural[0]"
   ]
  },
  {
   "cell_type": "code",
   "execution_count": 17,
   "metadata": {},
   "outputs": [
    {
     "name": "stdout",
     "output_type": "stream",
     "text": [
      "O cliente vai pagar o emprestimo\n"
     ]
    }
   ],
   "source": [
    "paga = 0\n",
    "nao_paga = 0\n",
    "\n",
    "\n",
    "if resposta_rede_neural[0] == 1:\n",
    "    nao_paga +=1\n",
    "else:\n",
    "    paga +=1\n",
    "\n",
    "if resposta_arvore_decisao[0] == 1:\n",
    "    nao_paga +=1\n",
    "else:\n",
    "    paga +=1\n",
    "\n",
    "if resposta_svm[0] == 1:\n",
    "    nao_paga +=1\n",
    "else:\n",
    "    paga +=1\n",
    "\n",
    "if resposta_knn[0] == 1:\n",
    "    nao_paga +=1\n",
    "else:\n",
    "    paga +=1    \n",
    "\n",
    "if resposta_svm[0] == 1:\n",
    "    nao_paga +=1\n",
    "else:\n",
    "    paga +=1\n",
    "\n",
    "\n",
    "if paga > nao_paga:\n",
    "    print(\"O cliente vai pagar o emprestimo\")\n",
    "else:\n",
    "    print(\"O cliente não vai pagar o emprestimo\")"
   ]
  },
  {
   "cell_type": "markdown",
   "metadata": {},
   "source": [
    "# Testando com dados de um cliente que não pagará o emprestimo\n",
    "* Classe = 1"
   ]
  },
  {
   "cell_type": "code",
   "execution_count": 20,
   "metadata": {},
   "outputs": [
    {
     "data": {
      "text/plain": [
       "(1, 1, 1, 1, 1)"
      ]
     },
     "execution_count": 20,
     "metadata": {},
     "output_type": "execute_result"
    }
   ],
   "source": [
    "resposta_arvore_decisao1[0], resposta_random_forest1[0], resposta_knn1[0], resposta_svm1[0], resposta_rede_neural1[0]"
   ]
  },
  {
   "cell_type": "code",
   "execution_count": 22,
   "metadata": {},
   "outputs": [
    {
     "name": "stdout",
     "output_type": "stream",
     "text": [
      "O cliente não vai pagar o emprestimo\n"
     ]
    }
   ],
   "source": [
    "paga = 0\n",
    "nao_paga = 0\n",
    "\n",
    "\n",
    "if resposta_rede_neural1[0] == 1:\n",
    "    nao_paga +=1\n",
    "else:\n",
    "    paga +=1\n",
    "\n",
    "if resposta_arvore_decisao1[0] == 1:\n",
    "    nao_paga +=1\n",
    "else:\n",
    "    paga +=1\n",
    "\n",
    "if resposta_svm1[0] == 1:\n",
    "    nao_paga +=1\n",
    "else:\n",
    "    paga +=1\n",
    "\n",
    "if resposta_knn1[0] == 1:\n",
    "    nao_paga +=1\n",
    "else:\n",
    "    paga +=1    \n",
    "\n",
    "if resposta_svm1[0] == 1:\n",
    "    nao_paga +=1\n",
    "else:\n",
    "    paga +=1\n",
    "\n",
    "\n",
    "if paga > nao_paga:\n",
    "    print(\"O cliente vai pagar o emprestimo\")\n",
    "else:\n",
    "    print(\"O cliente não vai pagar o emprestimo\")"
   ]
  },
  {
   "cell_type": "markdown",
   "metadata": {},
   "source": [
    "# FIM"
   ]
  }
 ],
 "metadata": {
  "kernelspec": {
   "display_name": "Python 3.10.7 64-bit (microsoft store)",
   "language": "python",
   "name": "python3"
  },
  "language_info": {
   "codemirror_mode": {
    "name": "ipython",
    "version": 3
   },
   "file_extension": ".py",
   "mimetype": "text/x-python",
   "name": "python",
   "nbconvert_exporter": "python",
   "pygments_lexer": "ipython3",
   "version": "3.10.7"
  },
  "orig_nbformat": 4,
  "vscode": {
   "interpreter": {
    "hash": "366c4c5561b3b7192db4ea44ad2361e84217bc9c8517193206197b435f3a3215"
   }
  }
 },
 "nbformat": 4,
 "nbformat_minor": 2
}
