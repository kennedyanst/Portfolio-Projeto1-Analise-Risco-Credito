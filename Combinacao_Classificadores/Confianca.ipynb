{
 "cells": [
  {
   "cell_type": "markdown",
   "metadata": {},
   "source": [
    "# Combinando os cinco algoritmos de Machine Learning para rejeitar ou não o emprestismo baseado em sua taxa de CONFIANÇA. \n",
    "\n",
    "* Combinandos os cinco algoritmos baseado em uma taxa minima de confiança estipulanda. Se 3 ou mais algoritmos atiginrem essa taxa minima de confiança, o resultado da previsão será aceito. "
   ]
  },
  {
   "cell_type": "code",
   "execution_count": 1,
   "metadata": {},
   "outputs": [],
   "source": [
    "import pickle \n",
    "import numpy as np"
   ]
  },
  {
   "cell_type": "code",
   "execution_count": 2,
   "metadata": {},
   "outputs": [],
   "source": [
    "with open(\"base.pkl\", \"rb\") as df:\n",
    "    X_base_treinamento, y_base_treinamento, X_base_teste, y_base_teste = pickle.load(df)"
   ]
  },
  {
   "cell_type": "code",
   "execution_count": 3,
   "metadata": {},
   "outputs": [],
   "source": [
    "X_base = np.concatenate((X_base_treinamento, X_base_teste), axis = 0)\n",
    "y_base = np.concatenate((y_base_treinamento, y_base_teste), axis = 0)"
   ]
  },
  {
   "cell_type": "code",
   "execution_count": 16,
   "metadata": {},
   "outputs": [],
   "source": [
    "arvore_decisao = pickle.load(open(\"arvore_decisao_finalizado.sav\", \"rb\"))\n",
    "random_forest = pickle.load(open(\"random_forest_finalizado.sav\", \"rb\"))\n",
    "knn = pickle.load(open(\"knn_finalizado.sav\", \"rb\"))\n",
    "svm = pickle.load(open(\"svm_finalizado_v2.sav\", \"rb\"))\n",
    "rede_neural = pickle.load(open(\"rede_neural_finalizado.sav\", \"rb\"))"
   ]
  },
  {
   "cell_type": "code",
   "execution_count": 5,
   "metadata": {},
   "outputs": [],
   "source": [
    "#Testando os algoritmos carregados. \n",
    "novo_registro0 = X_base[0] #Paga = 0\n",
    "novo_registro1 = X_base[1999] #Não paga = 1\n",
    "novo_registro0 = novo_registro0.reshape(1,-1) #Colocando em formato de matriz\n",
    "novo_registro1 = novo_registro1.reshape(1,-1) #Colocando em formato de matriz"
   ]
  },
  {
   "cell_type": "markdown",
   "metadata": {},
   "source": [
    "# IMPLEMENTANDO O IF PARA COMBINAR OS CLASSIFICADORES. "
   ]
  },
  {
   "cell_type": "code",
   "execution_count": 6,
   "metadata": {},
   "outputs": [],
   "source": [
    "\n",
    "# PAGANTES\n",
    "resposta_rede_neural = rede_neural.predict(novo_registro0)\n",
    "resposta_arvore_decisao = arvore_decisao.predict(novo_registro0)\n",
    "resposta_svm = svm.predict(novo_registro0)\n",
    "resposta_random_forest = random_forest.predict(novo_registro0)\n",
    "resposta_knn = knn.predict(novo_registro0)\n",
    "\n",
    "# NÃO-PAGANTES\n",
    "resposta_rede_neural1 = rede_neural.predict(novo_registro1)\n",
    "resposta_arvore_decisao1 = arvore_decisao.predict(novo_registro1)\n",
    "resposta_svm1 = svm.predict(novo_registro1)\n",
    "resposta_random_forest1 = random_forest.predict(novo_registro1)\n",
    "resposta_knn1 = knn.predict(novo_registro1)"
   ]
  },
  {
   "cell_type": "markdown",
   "metadata": {},
   "source": [
    "# NÃO PAGANTES"
   ]
  },
  {
   "cell_type": "code",
   "execution_count": 7,
   "metadata": {},
   "outputs": [
    {
     "data": {
      "text/plain": [
       "(0, 0, 0, 0, 0)"
      ]
     },
     "execution_count": 7,
     "metadata": {},
     "output_type": "execute_result"
    }
   ],
   "source": [
    "resposta_arvore_decisao[0], resposta_random_forest[0], resposta_knn[0], resposta_svm[0], resposta_rede_neural[0]"
   ]
  },
  {
   "cell_type": "code",
   "execution_count": 9,
   "metadata": {},
   "outputs": [],
   "source": [
    "probabilidade_rede_neural = rede_neural.predict_proba(novo_registro0)\n",
    "confiaca_rede_neural = probabilidade_rede_neural.max()"
   ]
  },
  {
   "cell_type": "code",
   "execution_count": 10,
   "metadata": {},
   "outputs": [],
   "source": [
    "probabilidade_arvore_decisao = arvore_decisao.predict_proba(novo_registro0)\n",
    "confiaca_arvore = probabilidade_arvore_decisao.max()\n"
   ]
  },
  {
   "cell_type": "code",
   "execution_count": 17,
   "metadata": {},
   "outputs": [],
   "source": [
    "\n",
    "probabilidade_svm = svm.predict_proba(novo_registro0)\n",
    "confiaca_svm = probabilidade_svm.max()"
   ]
  },
  {
   "cell_type": "code",
   "execution_count": 12,
   "metadata": {},
   "outputs": [],
   "source": [
    "probabilidade_knn = knn.predict_proba(novo_registro0)\n",
    "confiaca_knn = probabilidade_knn.max()"
   ]
  },
  {
   "cell_type": "code",
   "execution_count": 13,
   "metadata": {},
   "outputs": [],
   "source": [
    "probabilidade_random_forest = random_forest.predict_proba(novo_registro0)\n",
    "confiaca_random_forest = probabilidade_random_forest.max()"
   ]
  },
  {
   "cell_type": "code",
   "execution_count": 18,
   "metadata": {},
   "outputs": [
    {
     "data": {
      "text/plain": [
       "(1.0, 1.0, 1.0, 0.9999981763297934, 1.0)"
      ]
     },
     "execution_count": 18,
     "metadata": {},
     "output_type": "execute_result"
    }
   ],
   "source": [
    "confiaca_arvore, confiaca_knn, confiaca_random_forest, confiaca_svm, confiaca_rede_neural"
   ]
  },
  {
   "cell_type": "code",
   "execution_count": 21,
   "metadata": {},
   "outputs": [
    {
     "name": "stdout",
     "output_type": "stream",
     "text": [
      "O cliente vai pagar o emprestimo baseado em 4 algoritmos previsores\n"
     ]
    }
   ],
   "source": [
    "paga = 0\n",
    "nao_paga = 0\n",
    "confianca_minima = 0.99999999999\n",
    "algoritmos = 0\n",
    "\n",
    "if confiaca_rede_neural >= confianca_minima:\n",
    "    algoritmos+=1\n",
    "    if resposta_rede_neural[0] == 1:\n",
    "        nao_paga +=1\n",
    "    else:\n",
    "        paga +=1\n",
    "\n",
    "if confiaca_arvore >= confianca_minima:\n",
    "    algoritmos+=1\n",
    "    if resposta_arvore_decisao[0] == 1:\n",
    "        nao_paga +=1\n",
    "    else:\n",
    "        paga +=1\n",
    "\n",
    "if confiaca_svm >= confianca_minima:\n",
    "    algoritmos+=1\n",
    "    if resposta_svm[0] == 1:\n",
    "        nao_paga +=1\n",
    "    else:\n",
    "        paga +=1\n",
    "\n",
    "if confiaca_knn >= confianca_minima:\n",
    "    algoritmos+=1\n",
    "    if resposta_knn[0] == 1:\n",
    "        nao_paga +=1\n",
    "    else:\n",
    "        paga +=1\n",
    "\n",
    "if confiaca_random_forest >= confianca_minima:\n",
    "    algoritmos+=1\n",
    "    if resposta_random_forest[0] == 1:\n",
    "        nao_paga +=1\n",
    "    else:\n",
    "        paga +=1\n",
    "\n",
    "if paga > nao_paga:\n",
    "    print(f\"O cliente vai pagar o emprestimo baseado em {algoritmos} algoritmos previsores\")\n",
    "else:\n",
    "    print(f\"O cliente não vai pagar o emprestimo baseado em {algoritmos} algoritmos previsores\")"
   ]
  },
  {
   "cell_type": "markdown",
   "metadata": {},
   "source": [
    "# PAGANTES"
   ]
  },
  {
   "cell_type": "code",
   "execution_count": 22,
   "metadata": {},
   "outputs": [
    {
     "data": {
      "text/plain": [
       "(1, 1, 1, 1, 1)"
      ]
     },
     "execution_count": 22,
     "metadata": {},
     "output_type": "execute_result"
    }
   ],
   "source": [
    "resposta_arvore_decisao1[0], resposta_random_forest1[0], resposta_knn1[0], resposta_svm1[0], resposta_rede_neural1[0]"
   ]
  },
  {
   "cell_type": "code",
   "execution_count": 24,
   "metadata": {},
   "outputs": [],
   "source": [
    "probabilidade_rede_neural1 = rede_neural.predict_proba(novo_registro1)\n",
    "confiaca_rede_neural1 = probabilidade_rede_neural1.max()"
   ]
  },
  {
   "cell_type": "code",
   "execution_count": 25,
   "metadata": {},
   "outputs": [],
   "source": [
    "probabilidade_arvore_decisao1 = arvore_decisao.predict_proba(novo_registro1)\n",
    "confiaca_arvore1 = probabilidade_arvore_decisao1.max()"
   ]
  },
  {
   "cell_type": "code",
   "execution_count": 26,
   "metadata": {},
   "outputs": [],
   "source": [
    "probabilidade_svm1 = svm.predict_proba(novo_registro1)\n",
    "confiaca_svm1 = probabilidade_svm1.max()"
   ]
  },
  {
   "cell_type": "code",
   "execution_count": 28,
   "metadata": {},
   "outputs": [],
   "source": [
    "probabilidade_knn1 = knn.predict_proba(novo_registro1)\n",
    "confiaca_knn1 = probabilidade_knn1.max()"
   ]
  },
  {
   "cell_type": "code",
   "execution_count": 27,
   "metadata": {},
   "outputs": [],
   "source": [
    "probabilidade_random_forest1 = random_forest.predict_proba(novo_registro1)\n",
    "confiaca_random_forest1 = probabilidade_random_forest1.max()"
   ]
  },
  {
   "cell_type": "code",
   "execution_count": 29,
   "metadata": {},
   "outputs": [
    {
     "data": {
      "text/plain": [
       "(1.0, 1.0, 1.0, 0.9928815418192926, 0.9999060529984614)"
      ]
     },
     "execution_count": 29,
     "metadata": {},
     "output_type": "execute_result"
    }
   ],
   "source": [
    "confiaca_arvore1, confiaca_knn1, confiaca_random_forest1, confiaca_svm1, confiaca_rede_neural1"
   ]
  },
  {
   "cell_type": "code",
   "execution_count": 30,
   "metadata": {},
   "outputs": [
    {
     "name": "stdout",
     "output_type": "stream",
     "text": [
      "O cliente não vai pagar o emprestimo baseado em 3 algoritmos previsores\n"
     ]
    }
   ],
   "source": [
    "paga = 0\n",
    "nao_paga = 0\n",
    "confianca_minima = 0.99999999999\n",
    "algoritmos = 0\n",
    "\n",
    "if confiaca_rede_neural1 >= confianca_minima:\n",
    "    algoritmos+=1\n",
    "    if resposta_rede_neural1[0] == 1:\n",
    "        nao_paga +=1\n",
    "    else:\n",
    "        paga +=1\n",
    "\n",
    "if confiaca_arvore1 >= confianca_minima:\n",
    "    algoritmos+=1\n",
    "    if resposta_arvore_decisao1[0] == 1:\n",
    "        nao_paga +=1\n",
    "    else:\n",
    "        paga +=1\n",
    "\n",
    "if confiaca_svm1 >= confianca_minima:\n",
    "    algoritmos+=1\n",
    "    if resposta_svm1[0] == 1:\n",
    "        nao_paga +=1\n",
    "    else:\n",
    "        paga +=1\n",
    "\n",
    "if confiaca_knn1 >= confianca_minima:\n",
    "    algoritmos+=1\n",
    "    if resposta_knn1[0] == 1:\n",
    "        nao_paga +=1\n",
    "    else:\n",
    "        paga +=1\n",
    "\n",
    "if confiaca_random_forest1 >= confianca_minima:\n",
    "    algoritmos+=1\n",
    "    if resposta_random_forest1[0] == 1:\n",
    "        nao_paga +=1\n",
    "    else:\n",
    "        paga +=1\n",
    "\n",
    "if paga > nao_paga:\n",
    "    print(f\"O cliente vai pagar o emprestimo baseado em {algoritmos} algoritmos previsores\")\n",
    "else:\n",
    "    print(f\"O cliente não vai pagar o emprestimo baseado em {algoritmos} algoritmos previsores\")"
   ]
  },
  {
   "cell_type": "markdown",
   "metadata": {},
   "source": [
    "# FIM"
   ]
  }
 ],
 "metadata": {
  "kernelspec": {
   "display_name": "Python 3.10.7 64-bit (microsoft store)",
   "language": "python",
   "name": "python3"
  },
  "language_info": {
   "codemirror_mode": {
    "name": "ipython",
    "version": 3
   },
   "file_extension": ".py",
   "mimetype": "text/x-python",
   "name": "python",
   "nbconvert_exporter": "python",
   "pygments_lexer": "ipython3",
   "version": "3.10.7"
  },
  "orig_nbformat": 4,
  "vscode": {
   "interpreter": {
    "hash": "366c4c5561b3b7192db4ea44ad2361e84217bc9c8517193206197b435f3a3215"
   }
  }
 },
 "nbformat": 4,
 "nbformat_minor": 2
}
