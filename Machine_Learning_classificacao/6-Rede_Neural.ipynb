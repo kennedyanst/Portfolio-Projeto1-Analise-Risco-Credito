{
 "cells": [
  {
   "cell_type": "markdown",
   "metadata": {},
   "source": [
    "# Utilizando algoritmo classificador de Rede Neural Artificial do scikit-learn: Multi-Layer Perceptron"
   ]
  },
  {
   "cell_type": "markdown",
   "metadata": {},
   "source": [
    "## Importando a biblioteca para a classificação por Redes Neurais Artificiais (Multi-Layer Perceptron) e a biblioteca que irá carregar os dados de treinamento e teste"
   ]
  },
  {
   "cell_type": "code",
   "execution_count": 1,
   "metadata": {},
   "outputs": [],
   "source": [
    "import pickle\n",
    "from sklearn.neural_network import MLPClassifier"
   ]
  },
  {
   "cell_type": "code",
   "execution_count": 2,
   "metadata": {},
   "outputs": [],
   "source": [
    "with open(\"base.pkl\", \"rb\") as df:\n",
    "    X_base_treinamento, y_base_treinamento, X_base_teste, y_base_teste = pickle.load(df)"
   ]
  },
  {
   "cell_type": "code",
   "execution_count": 3,
   "metadata": {},
   "outputs": [
    {
     "data": {
      "text/plain": [
       "((1500, 3), (1500,))"
      ]
     },
     "execution_count": 3,
     "metadata": {},
     "output_type": "execute_result"
    }
   ],
   "source": [
    "# Verificando o shape dos atributos\n",
    "X_base_treinamento.shape, y_base_treinamento.shape"
   ]
  },
  {
   "cell_type": "code",
   "execution_count": 4,
   "metadata": {},
   "outputs": [
    {
     "data": {
      "text/plain": [
       "((500, 3), (500,))"
      ]
     },
     "execution_count": 4,
     "metadata": {},
     "output_type": "execute_result"
    }
   ],
   "source": [
    "X_base_teste.shape, y_base_teste.shape"
   ]
  },
  {
   "cell_type": "code",
   "execution_count": null,
   "metadata": {},
   "outputs": [],
   "source": [
    "rede_neural = MLPClassifier(max_iter=1500, verbose=True, tol=0.000000001, solver= \"adam\", activation= \"relu\", hidden_layer_sizes=(100,100), random_state=1)\n",
    "rede_neural.fit(X_base_treinamento, y_base_treinamento) #Maximum interation = Epocas. "
   ]
  },
  {
   "cell_type": "markdown",
   "metadata": {},
   "source": [
    "##### Sobre os parâmetros utilizados:\n",
    "* max_iter: Foi utilizado 1500 épocas para diminuir o número de erros nessa base, visto que o valor padrão de 200 épocas não se mostrou suficiente. Além do mais, foram testadas 800, 1000, 1200 épocas. Como a base do estudo não é grande, um número maior de épocas não foi necessário.  \n",
    "* verbose: Foi ajustado para \"True\" com o intuito de ser visualizado o valor do erro época por época. A mudança não faz diferença no resultado do algoritmo mas trouxe para o desenvolvedor um feedback sobre o andamento do código. \n",
    "* tol: Foi utilizado para fazer o algoritmo rodar por mais épocas até atingir o maior número de zeros na perda. \n",
    "* solver: A utilização do valor \"adam\" foi uma escolha padrão, visto que é o algoritmo mais utilizado na área de Deeplearning. O valor é uma melhoria da descida do gradiente e mesmo a base não sendo tão grande, resolvi usa-lo.\n",
    "* activation: A utilização do valor \"relu\" foi uma escolha padrão, visto que é a função de ativação mais utilizada na área de aprendizado de máquina\n",
    "* hidden_layer_sizes: A camada oculta foi uma escolha apriori, as configurações serão revistas futuramente com a função GridSearchCV() do sklearn\n",
    "* random_state: Para manter valor fixo dos testes.\n"
   ]
  },
  {
   "cell_type": "code",
   "execution_count": 43,
   "metadata": {},
   "outputs": [],
   "source": [
    "previsao = rede_neural.predict(X_base_teste)"
   ]
  },
  {
   "cell_type": "code",
   "execution_count": 44,
   "metadata": {},
   "outputs": [
    {
     "name": "stdout",
     "output_type": "stream",
     "text": [
      "A precisão do algoritmo foi de 99.6%\n"
     ]
    }
   ],
   "source": [
    "from sklearn.metrics import accuracy_score, classification_report\n",
    "print(f\"A precisão do algoritmo foi de {accuracy_score(y_base_teste, previsao) * 100}%\")"
   ]
  },
  {
   "cell_type": "markdown",
   "metadata": {},
   "source": [
    "## Visualizando onde está a maior precisão do algoritmo, se no pagante ou não-pagante. Neste caso, a precisão do algoritmo é quase 100%. O que se mostra o ideal, visto que o objetivo do algoritmo seria evitar a perda de dinheiro por emprestimo de um banco. Errou apenas uma classificação dos não-pagantes."
   ]
  },
  {
   "cell_type": "code",
   "execution_count": 40,
   "metadata": {},
   "outputs": [
    {
     "data": {
      "text/plain": [
       "0.996"
      ]
     },
     "execution_count": 40,
     "metadata": {},
     "output_type": "execute_result"
    },
    {
     "data": {
      "image/png": "[encoded data removed]",
      "text/plain": [
       "<Figure size 432x288 with 1 Axes>"
      ]
     },
     "metadata": {
      "needs_background": "light"
     },
     "output_type": "display_data"
    }
   ],
   "source": [
    "from yellowbrick.classifier import ConfusionMatrix\n",
    "\n",
    "cm = ConfusionMatrix(rede_neural)\n",
    "cm.fit(X_base_treinamento, y_base_treinamento)\n",
    "cm.score(X_base_teste, y_base_teste)"
   ]
  },
  {
   "cell_type": "code",
   "execution_count": 41,
   "metadata": {},
   "outputs": [
    {
     "name": "stdout",
     "output_type": "stream",
     "text": [
      "              precision    recall  f1-score   support\n",
      "\n",
      "           0       1.00      1.00      1.00       436\n",
      "           1       0.98      0.98      0.98        64\n",
      "\n",
      "    accuracy                           1.00       500\n",
      "   macro avg       0.99      0.99      0.99       500\n",
      "weighted avg       1.00      1.00      1.00       500\n",
      "\n"
     ]
    }
   ],
   "source": [
    "print(classification_report(y_base_teste, previsao))"
   ]
  },
  {
   "cell_type": "markdown",
   "metadata": {},
   "source": [
    "#### O algoritmo consegue identificar corretamente 100% dos dados da classe 0 (Pagantes) com uma precisão de 100% e 98% dos dados da classe 1 (Não-Pagantes) com uma precisão de 98%."
   ]
  },
  {
   "cell_type": "markdown",
   "metadata": {},
   "source": [
    "# FIM"
   ]
  }
 ],
 "metadata": {
  "kernelspec": {
   "display_name": "Python 3.10.7 64-bit (microsoft store)",
   "language": "python",
   "name": "python3"
  },
  "language_info": {
   "codemirror_mode": {
    "name": "ipython",
    "version": 3
   },
   "file_extension": ".py",
   "mimetype": "text/x-python",
   "name": "python",
   "nbconvert_exporter": "python",
   "pygments_lexer": "ipython3",
   "version": "3.10.7"
  },
  "orig_nbformat": 4,
  "vscode": {
   "interpreter": {
    "hash": "366c4c5561b3b7192db4ea44ad2361e84217bc9c8517193206197b435f3a3215"
   }
  }
 },
 "nbformat": 4,
 "nbformat_minor": 2
}
