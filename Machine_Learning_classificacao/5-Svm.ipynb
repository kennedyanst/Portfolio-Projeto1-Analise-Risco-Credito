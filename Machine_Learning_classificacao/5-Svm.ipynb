{
 "cells": [
  {
   "cell_type": "markdown",
   "metadata": {},
   "source": [
    "# Utilizando algoritmo classificador com Maquinas de Vetores de Suporte (SVM) para a previsão de pagamento"
   ]
  },
  {
   "cell_type": "markdown",
   "metadata": {},
   "source": [
    "## Importando a biblioteca para a classificação por Maquinas de Vetores de Suporte (SVM) e a biblioteca que irá carregar os dados de treinamento e teste\n"
   ]
  },
  {
   "cell_type": "code",
   "execution_count": 1,
   "metadata": {},
   "outputs": [],
   "source": [
    "from sklearn.svm import SVC\n",
    "import pickle\n",
    "from sklearn.metrics import accuracy_score, classification_report\n",
    "from yellowbrick.classifier import ConfusionMatrix"
   ]
  },
  {
   "cell_type": "code",
   "execution_count": 2,
   "metadata": {},
   "outputs": [],
   "source": [
    "with open(\"base.pkl\", \"rb\") as df:\n",
    "    X_base_treinamento, y_base_treinamento, X_base_teste, y_base_teste = pickle.load(df)"
   ]
  },
  {
   "cell_type": "code",
   "execution_count": 3,
   "metadata": {},
   "outputs": [
    {
     "data": {
      "text/plain": [
       "((1500, 3), (1500,))"
      ]
     },
     "execution_count": 3,
     "metadata": {},
     "output_type": "execute_result"
    }
   ],
   "source": [
    "# Verificando o shape dos atributos\n",
    "X_base_treinamento.shape, y_base_treinamento.shape"
   ]
  },
  {
   "cell_type": "code",
   "execution_count": 4,
   "metadata": {},
   "outputs": [
    {
     "data": {
      "text/plain": [
       "((500, 3), (500,))"
      ]
     },
     "execution_count": 4,
     "metadata": {},
     "output_type": "execute_result"
    }
   ],
   "source": [
    "X_base_teste.shape, y_base_teste.shape"
   ]
  },
  {
   "cell_type": "markdown",
   "metadata": {},
   "source": [
    "### Com SVM, foi necessário fazer testes com as funções de dimensionalidade. Ao final, a função padrão do algoritmo \"rbf\" (Função de Base Radial) foi a que teve o melhor desenpenho, junto com o \"C\" de valor 2.0"
   ]
  },
  {
   "cell_type": "code",
   "execution_count": 7,
   "metadata": {},
   "outputs": [
    {
     "name": "stdout",
     "output_type": "stream",
     "text": [
      "A precisão do algoritmo foi de 94.6%\n"
     ]
    }
   ],
   "source": [
    "#AUMENTADO A DIMENSIONALIDADE DOS DADOS COM KERNEL LINEAR\n",
    "svm_linear = SVC(kernel=\"linear\", random_state=1, C = 1.0)\n",
    "svm_linear.fit(X_base_treinamento, y_base_treinamento)\n",
    "\n",
    "previsao = svm_linear.predict(X_base_teste)\n",
    "\n",
    "print(f\"A precisão do algoritmo foi de {accuracy_score(y_base_teste, previsao) * 100}%\")"
   ]
  },
  {
   "cell_type": "code",
   "execution_count": 11,
   "metadata": {},
   "outputs": [
    {
     "name": "stdout",
     "output_type": "stream",
     "text": [
      "A precisão do algoritmo foi de 96.8%\n"
     ]
    }
   ],
   "source": [
    "#AUMENTADO A DIMENSIONALIDADE DOS DADOS COM KERNEL POLINOMIAL\n",
    "svm_polinomial = SVC(kernel=\"poly\", random_state=1, C = 1.0)\n",
    "svm_polinomial.fit(X_base_treinamento, y_base_treinamento)\n",
    "\n",
    "previsao = svm_polinomial.predict(X_base_teste)\n",
    "y_base_teste\n",
    "\n",
    "print(f\"A precisão do algoritmo foi de {accuracy_score(y_base_teste, previsao) * 100}%\")"
   ]
  },
  {
   "cell_type": "code",
   "execution_count": 12,
   "metadata": {},
   "outputs": [
    {
     "name": "stdout",
     "output_type": "stream",
     "text": [
      "A precisão do algoritmo foi de 83.8%\n"
     ]
    }
   ],
   "source": [
    "#AUMENTADO A DIMENSIONALIDADE DOS DADOS COM KERNEL SIGMOID\n",
    "svm_sigmoid = SVC(kernel=\"sigmoid\", random_state=1, C = 1.0)\n",
    "svm_sigmoid.fit(X_base_treinamento, y_base_treinamento)\n",
    "\n",
    "previsao = svm_sigmoid.predict(X_base_teste)\n",
    "y_base_teste\n",
    "\n",
    "print(f\"A precisão do algoritmo foi de {accuracy_score(y_base_teste, previsao) * 100}%\")"
   ]
  },
  {
   "cell_type": "code",
   "execution_count": 13,
   "metadata": {},
   "outputs": [
    {
     "name": "stdout",
     "output_type": "stream",
     "text": [
      "A precisão do algoritmo foi de 98.2%\n"
     ]
    }
   ],
   "source": [
    "# AUMENTADO A DIMENSIONALIDADE DOS DADOS COM KERNEL DE FUNÇÃO DE BASE RADIAL\n",
    "svm_rbf = SVC(kernel=\"rbf\", random_state=1, C = 1.0)\n",
    "svm_rbf.fit(X_base_treinamento, y_base_treinamento)\n",
    "\n",
    "previsao = svm_rbf.predict(X_base_teste)\n",
    "y_base_teste\n",
    "\n",
    "print(f\"A precisão do algoritmo foi de {accuracy_score(y_base_teste, previsao) * 100}%\")"
   ]
  },
  {
   "cell_type": "markdown",
   "metadata": {},
   "source": [
    "## AUMENTADO A DIMENSIONALIDADE DOS DADOS COM KERNEL DE FUNÇÃO DE BASE RADIAL COM O \"C\" DE VALOR 2.0, AUMENTANDO A TENDENCIA DO ALGORITMO DE ENCONTRAR A LINHA PARA SEPARAR AS CLASSES"
   ]
  },
  {
   "cell_type": "code",
   "execution_count": 14,
   "metadata": {},
   "outputs": [
    {
     "name": "stdout",
     "output_type": "stream",
     "text": [
      "A precisão do algoritmo foi de 98.8%\n"
     ]
    }
   ],
   "source": [
    "svm_rbf2 = SVC(kernel=\"rbf\", random_state=1, C = 2.0)\n",
    "svm_rbf2.fit(X_base_treinamento, y_base_treinamento)\n",
    "\n",
    "previsao = svm_rbf2.predict(X_base_teste)\n",
    "y_base_teste\n",
    "\n",
    "print(f\"A precisão do algoritmo foi de {accuracy_score(y_base_teste, previsao) * 100}%\")"
   ]
  },
  {
   "cell_type": "markdown",
   "metadata": {},
   "source": [
    "## Visualizando onde está a maior precisão do algoritmo, se no pagante ou não-pagante. Neste caso, mesmo com uma maior precisão do algoritmo é nos pagantes a maior taxa de acertos, o que não seria o ideal, visto que o objetivo do algoritmo seria evitar a perda de dinheiro por emprestimo de um banco. "
   ]
  },
  {
   "cell_type": "code",
   "execution_count": 16,
   "metadata": {},
   "outputs": [
    {
     "data": {
      "text/plain": [
       "0.988"
      ]
     },
     "execution_count": 16,
     "metadata": {},
     "output_type": "execute_result"
    },
    {
     "data": {
      "image/png": "[encoded data removed]",
      "text/plain": [
       "<Figure size 432x288 with 1 Axes>"
      ]
     },
     "metadata": {
      "needs_background": "light"
     },
     "output_type": "display_data"
    }
   ],
   "source": [
    "cm = ConfusionMatrix(svm_rbf2)\n",
    "cm.fit(X_base_treinamento, y_base_treinamento)\n",
    "cm.score(X_base_teste, y_base_teste)"
   ]
  },
  {
   "cell_type": "code",
   "execution_count": 17,
   "metadata": {},
   "outputs": [
    {
     "name": "stdout",
     "output_type": "stream",
     "text": [
      "              precision    recall  f1-score   support\n",
      "\n",
      "           0       0.99      1.00      0.99       436\n",
      "           1       0.97      0.94      0.95        64\n",
      "\n",
      "    accuracy                           0.99       500\n",
      "   macro avg       0.98      0.97      0.97       500\n",
      "weighted avg       0.99      0.99      0.99       500\n",
      "\n"
     ]
    }
   ],
   "source": [
    "print(classification_report(y_base_teste, previsao))"
   ]
  },
  {
   "cell_type": "markdown",
   "metadata": {},
   "source": [
    "#### O algoritmo consegue identificar corretamente 100% dos dados da classe 0 (Pagantes) com uma precisão de 99% e 94% dos dados da classe 1 (Não-Pagantes) com uma precisão de 97%."
   ]
  },
  {
   "cell_type": "markdown",
   "metadata": {},
   "source": [
    "# FIM"
   ]
  }
 ],
 "metadata": {
  "kernelspec": {
   "display_name": "Python 3.10.7 64-bit (microsoft store)",
   "language": "python",
   "name": "python3"
  },
  "language_info": {
   "codemirror_mode": {
    "name": "ipython",
    "version": 3
   },
   "file_extension": ".py",
   "mimetype": "text/x-python",
   "name": "python",
   "nbconvert_exporter": "python",
   "pygments_lexer": "ipython3",
   "version": "3.10.7"
  },
  "orig_nbformat": 4,
  "vscode": {
   "interpreter": {
    "hash": "366c4c5561b3b7192db4ea44ad2361e84217bc9c8517193206197b435f3a3215"
   }
  }
 },
 "nbformat": 4,
 "nbformat_minor": 2
}
