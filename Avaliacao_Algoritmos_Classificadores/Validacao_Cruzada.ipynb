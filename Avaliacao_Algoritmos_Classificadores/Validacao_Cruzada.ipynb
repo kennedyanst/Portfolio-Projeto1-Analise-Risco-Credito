{
 "cells": [
  {
   "cell_type": "markdown",
   "metadata": {},
   "source": [
    "## <center>Validação cruzada dos algoritmos: Análise risco de crédito<center>\n"
   ]
  },
  {
   "cell_type": "code",
   "execution_count": 1,
   "metadata": {},
   "outputs": [],
   "source": [
    "from sklearn.model_selection import cross_val_score, KFold\n",
    "from sklearn.tree import DecisionTreeClassifier #Árvore de decisão\n",
    "from sklearn.ensemble import RandomForestClassifier #Random forest\n",
    "from sklearn.neighbors import KNeighborsClassifier #KNN\n",
    "from sklearn.svm import SVC #SVM\n",
    "from sklearn.neural_network import MLPClassifier #Redes neurais"
   ]
  },
  {
   "cell_type": "code",
   "execution_count": 5,
   "metadata": {},
   "outputs": [],
   "source": [
    "\n",
    "import pickle\n",
    "with open(\"base.pkl\", \"rb\") as df:\n",
    "    X_base_treinamento, y_base_treinamento, X_base_teste, y_base_teste = pickle.load(df)"
   ]
  },
  {
   "cell_type": "code",
   "execution_count": 3,
   "metadata": {},
   "outputs": [
    {
     "data": {
      "text/plain": [
       "((1500, 3), (1500,))"
      ]
     },
     "execution_count": 3,
     "metadata": {},
     "output_type": "execute_result"
    }
   ],
   "source": [
    "X_base_treinamento.shape, y_base_treinamento.shape"
   ]
  },
  {
   "cell_type": "code",
   "execution_count": 6,
   "metadata": {},
   "outputs": [
    {
     "data": {
      "text/plain": [
       "((500, 3), (500,))"
      ]
     },
     "execution_count": 6,
     "metadata": {},
     "output_type": "execute_result"
    }
   ],
   "source": [
    "X_base_teste.shape, y_base_teste.shape"
   ]
  },
  {
   "cell_type": "code",
   "execution_count": 8,
   "metadata": {},
   "outputs": [],
   "source": [
    "import numpy as np\n",
    "X_base = np.concatenate((X_base_treinamento, X_base_teste), axis = 0) #Concatenação das linhas do X\n",
    "y_base = np.concatenate((y_base_treinamento, y_base_teste), axis = 0) #Concatenação das linhas do y"
   ]
  },
  {
   "cell_type": "code",
   "execution_count": 9,
   "metadata": {},
   "outputs": [],
   "source": [
    "resultados_arvore_decisao = []\n",
    "resultados_random_forest = []\n",
    "resultados_knn = []\n",
    "resultados_svm = []\n",
    "resultados_rede_neural =[]"
   ]
  },
  {
   "cell_type": "code",
   "execution_count": null,
   "metadata": {},
   "outputs": [],
   "source": [
    "#300 testes para cada um dos algoritmos\n",
    "for i in range(30):\n",
    "    kfold = KFold(n_splits=10, shuffle=True, random_state=i)\n",
    "\n",
    "    #Árvore de decisão\n",
    "    arvore_decisao = DecisionTreeClassifier(criterion=\"entropy\", min_samples_leaf=1, min_samples_split=5, splitter=\"best\")\n",
    "    score = cross_val_score(arvore_decisao, X_base, y_base, cv = kfold)\n",
    "    print (score)\n",
    "    print(score.mean())\n",
    "    resultados_arvore_decisao.append(score.mean())\n",
    "\n",
    "    #Random forest\n",
    "    random_forest = RandomForestClassifier(criterion='gini', min_samples_leaf= 1, min_samples_split= 2, n_estimators= 40)\n",
    "    score = cross_val_score(random_forest, X_base, y_base, cv = kfold)\n",
    "    print (score)\n",
    "    print(score.mean())\n",
    "    resultados_random_forest.append(score.mean())\n",
    "    \n",
    "    #KNN\n",
    "    knn = KNeighborsClassifier(n_neighbors=5, metric = \"minkowski\", p=2)\n",
    "    score = cross_val_score(knn, X_base, y_base, cv = kfold)\n",
    "    print (score)\n",
    "    print(score.mean())\n",
    "    resultados_knn.append(score.mean())\n",
    "\n",
    "    #SVM\n",
    "    svm = SVC(C= 2.0, kernel= 'rbf', tol= 0.0001, random_state=1)\n",
    "    score = cross_val_score(svm, X_base, y_base, cv = kfold)\n",
    "    print (score)\n",
    "    print(score.mean())\n",
    "    resultados_svm.append(score.mean())\n",
    "\n",
    "    #Rede Neural\n",
    "    rede_neural = MLPClassifier(solver= \"adam\", activation= \"relu\", batch_size=56)\n",
    "    score = cross_val_score(rede_neural, X_base, y_base, cv = kfold)\n",
    "    print (score)\n",
    "    print(score.mean())\n",
    "    resultados_rede_neural.append(score.mean())\n",
    "    print(resultados_rede_neural)"
   ]
  },
  {
   "cell_type": "code",
   "execution_count": 11,
   "metadata": {},
   "outputs": [],
   "source": [
    "import pandas as pd"
   ]
  },
  {
   "cell_type": "code",
   "execution_count": 12,
   "metadata": {},
   "outputs": [],
   "source": [
    "resultados = pd.DataFrame({'Arvore de Decisão': resultados_arvore_decisao, \n",
    "                           'Random forest': resultados_random_forest, \n",
    "                           'KNN': resultados_knn,\n",
    "                           'SVM': resultados_svm, \n",
    "                           'Rede neural': resultados_rede_neural})"
   ]
  },
  {
   "cell_type": "code",
   "execution_count": 13,
   "metadata": {},
   "outputs": [
    {
     "data": {
      "text/html": [
       "<div>\n",
       "<style scoped>\n",
       "    .dataframe tbody tr th:only-of-type {\n",
       "        vertical-align: middle;\n",
       "    }\n",
       "\n",
       "    .dataframe tbody tr th {\n",
       "        vertical-align: top;\n",
       "    }\n",
       "\n",
       "    .dataframe thead th {\n",
       "        text-align: right;\n",
       "    }\n",
       "</style>\n",
       "<table border=\"1\" class=\"dataframe\">\n",
       "  <thead>\n",
       "    <tr style=\"text-align: right;\">\n",
       "      <th></th>\n",
       "      <th>Arvore de Decisão</th>\n",
       "      <th>Random forest</th>\n",
       "      <th>KNN</th>\n",
       "      <th>SVM</th>\n",
       "      <th>Rede neural</th>\n",
       "    </tr>\n",
       "  </thead>\n",
       "  <tbody>\n",
       "    <tr>\n",
       "      <th>0</th>\n",
       "      <td>0.9860</td>\n",
       "      <td>0.9850</td>\n",
       "      <td>0.9815</td>\n",
       "      <td>0.9845</td>\n",
       "      <td>0.9975</td>\n",
       "    </tr>\n",
       "    <tr>\n",
       "      <th>1</th>\n",
       "      <td>0.9855</td>\n",
       "      <td>0.9880</td>\n",
       "      <td>0.9800</td>\n",
       "      <td>0.9840</td>\n",
       "      <td>0.9980</td>\n",
       "    </tr>\n",
       "    <tr>\n",
       "      <th>2</th>\n",
       "      <td>0.9905</td>\n",
       "      <td>0.9870</td>\n",
       "      <td>0.9795</td>\n",
       "      <td>0.9865</td>\n",
       "      <td>0.9975</td>\n",
       "    </tr>\n",
       "    <tr>\n",
       "      <th>3</th>\n",
       "      <td>0.9875</td>\n",
       "      <td>0.9845</td>\n",
       "      <td>0.9780</td>\n",
       "      <td>0.9850</td>\n",
       "      <td>0.9970</td>\n",
       "    </tr>\n",
       "    <tr>\n",
       "      <th>4</th>\n",
       "      <td>0.9880</td>\n",
       "      <td>0.9855</td>\n",
       "      <td>0.9820</td>\n",
       "      <td>0.9850</td>\n",
       "      <td>0.9980</td>\n",
       "    </tr>\n",
       "    <tr>\n",
       "      <th>5</th>\n",
       "      <td>0.9890</td>\n",
       "      <td>0.9895</td>\n",
       "      <td>0.9780</td>\n",
       "      <td>0.9845</td>\n",
       "      <td>0.9975</td>\n",
       "    </tr>\n",
       "    <tr>\n",
       "      <th>6</th>\n",
       "      <td>0.9880</td>\n",
       "      <td>0.9895</td>\n",
       "      <td>0.9805</td>\n",
       "      <td>0.9860</td>\n",
       "      <td>0.9970</td>\n",
       "    </tr>\n",
       "    <tr>\n",
       "      <th>7</th>\n",
       "      <td>0.9875</td>\n",
       "      <td>0.9870</td>\n",
       "      <td>0.9800</td>\n",
       "      <td>0.9850</td>\n",
       "      <td>0.9975</td>\n",
       "    </tr>\n",
       "    <tr>\n",
       "      <th>8</th>\n",
       "      <td>0.9855</td>\n",
       "      <td>0.9870</td>\n",
       "      <td>0.9795</td>\n",
       "      <td>0.9840</td>\n",
       "      <td>0.9970</td>\n",
       "    </tr>\n",
       "    <tr>\n",
       "      <th>9</th>\n",
       "      <td>0.9870</td>\n",
       "      <td>0.9875</td>\n",
       "      <td>0.9820</td>\n",
       "      <td>0.9845</td>\n",
       "      <td>0.9975</td>\n",
       "    </tr>\n",
       "    <tr>\n",
       "      <th>10</th>\n",
       "      <td>0.9860</td>\n",
       "      <td>0.9865</td>\n",
       "      <td>0.9795</td>\n",
       "      <td>0.9840</td>\n",
       "      <td>0.9970</td>\n",
       "    </tr>\n",
       "    <tr>\n",
       "      <th>11</th>\n",
       "      <td>0.9900</td>\n",
       "      <td>0.9885</td>\n",
       "      <td>0.9825</td>\n",
       "      <td>0.9845</td>\n",
       "      <td>0.9975</td>\n",
       "    </tr>\n",
       "    <tr>\n",
       "      <th>12</th>\n",
       "      <td>0.9885</td>\n",
       "      <td>0.9865</td>\n",
       "      <td>0.9825</td>\n",
       "      <td>0.9855</td>\n",
       "      <td>0.9970</td>\n",
       "    </tr>\n",
       "    <tr>\n",
       "      <th>13</th>\n",
       "      <td>0.9870</td>\n",
       "      <td>0.9865</td>\n",
       "      <td>0.9780</td>\n",
       "      <td>0.9850</td>\n",
       "      <td>0.9975</td>\n",
       "    </tr>\n",
       "    <tr>\n",
       "      <th>14</th>\n",
       "      <td>0.9830</td>\n",
       "      <td>0.9845</td>\n",
       "      <td>0.9810</td>\n",
       "      <td>0.9830</td>\n",
       "      <td>0.9975</td>\n",
       "    </tr>\n",
       "    <tr>\n",
       "      <th>15</th>\n",
       "      <td>0.9860</td>\n",
       "      <td>0.9870</td>\n",
       "      <td>0.9790</td>\n",
       "      <td>0.9865</td>\n",
       "      <td>0.9975</td>\n",
       "    </tr>\n",
       "    <tr>\n",
       "      <th>16</th>\n",
       "      <td>0.9855</td>\n",
       "      <td>0.9865</td>\n",
       "      <td>0.9810</td>\n",
       "      <td>0.9860</td>\n",
       "      <td>0.9970</td>\n",
       "    </tr>\n",
       "    <tr>\n",
       "      <th>17</th>\n",
       "      <td>0.9905</td>\n",
       "      <td>0.9860</td>\n",
       "      <td>0.9800</td>\n",
       "      <td>0.9865</td>\n",
       "      <td>0.9965</td>\n",
       "    </tr>\n",
       "    <tr>\n",
       "      <th>18</th>\n",
       "      <td>0.9875</td>\n",
       "      <td>0.9890</td>\n",
       "      <td>0.9805</td>\n",
       "      <td>0.9850</td>\n",
       "      <td>0.9975</td>\n",
       "    </tr>\n",
       "    <tr>\n",
       "      <th>19</th>\n",
       "      <td>0.9870</td>\n",
       "      <td>0.9860</td>\n",
       "      <td>0.9795</td>\n",
       "      <td>0.9845</td>\n",
       "      <td>0.9975</td>\n",
       "    </tr>\n",
       "    <tr>\n",
       "      <th>20</th>\n",
       "      <td>0.9830</td>\n",
       "      <td>0.9850</td>\n",
       "      <td>0.9820</td>\n",
       "      <td>0.9840</td>\n",
       "      <td>0.9975</td>\n",
       "    </tr>\n",
       "    <tr>\n",
       "      <th>21</th>\n",
       "      <td>0.9865</td>\n",
       "      <td>0.9860</td>\n",
       "      <td>0.9825</td>\n",
       "      <td>0.9850</td>\n",
       "      <td>0.9975</td>\n",
       "    </tr>\n",
       "    <tr>\n",
       "      <th>22</th>\n",
       "      <td>0.9890</td>\n",
       "      <td>0.9875</td>\n",
       "      <td>0.9780</td>\n",
       "      <td>0.9865</td>\n",
       "      <td>0.9980</td>\n",
       "    </tr>\n",
       "    <tr>\n",
       "      <th>23</th>\n",
       "      <td>0.9870</td>\n",
       "      <td>0.9870</td>\n",
       "      <td>0.9810</td>\n",
       "      <td>0.9875</td>\n",
       "      <td>0.9970</td>\n",
       "    </tr>\n",
       "    <tr>\n",
       "      <th>24</th>\n",
       "      <td>0.9865</td>\n",
       "      <td>0.9865</td>\n",
       "      <td>0.9795</td>\n",
       "      <td>0.9870</td>\n",
       "      <td>0.9970</td>\n",
       "    </tr>\n",
       "    <tr>\n",
       "      <th>25</th>\n",
       "      <td>0.9885</td>\n",
       "      <td>0.9860</td>\n",
       "      <td>0.9790</td>\n",
       "      <td>0.9820</td>\n",
       "      <td>0.9975</td>\n",
       "    </tr>\n",
       "    <tr>\n",
       "      <th>26</th>\n",
       "      <td>0.9875</td>\n",
       "      <td>0.9865</td>\n",
       "      <td>0.9770</td>\n",
       "      <td>0.9840</td>\n",
       "      <td>0.9970</td>\n",
       "    </tr>\n",
       "    <tr>\n",
       "      <th>27</th>\n",
       "      <td>0.9860</td>\n",
       "      <td>0.9840</td>\n",
       "      <td>0.9785</td>\n",
       "      <td>0.9865</td>\n",
       "      <td>0.9970</td>\n",
       "    </tr>\n",
       "    <tr>\n",
       "      <th>28</th>\n",
       "      <td>0.9860</td>\n",
       "      <td>0.9855</td>\n",
       "      <td>0.9790</td>\n",
       "      <td>0.9835</td>\n",
       "      <td>0.9975</td>\n",
       "    </tr>\n",
       "    <tr>\n",
       "      <th>29</th>\n",
       "      <td>0.9880</td>\n",
       "      <td>0.9865</td>\n",
       "      <td>0.9805</td>\n",
       "      <td>0.9865</td>\n",
       "      <td>0.9970</td>\n",
       "    </tr>\n",
       "  </tbody>\n",
       "</table>\n",
       "</div>"
      ],
      "text/plain": [
       "    Arvore de Decisão  Random forest     KNN     SVM  Rede neural\n",
       "0              0.9860         0.9850  0.9815  0.9845       0.9975\n",
       "1              0.9855         0.9880  0.9800  0.9840       0.9980\n",
       "2              0.9905         0.9870  0.9795  0.9865       0.9975\n",
       "3              0.9875         0.9845  0.9780  0.9850       0.9970\n",
       "4              0.9880         0.9855  0.9820  0.9850       0.9980\n",
       "5              0.9890         0.9895  0.9780  0.9845       0.9975\n",
       "6              0.9880         0.9895  0.9805  0.9860       0.9970\n",
       "7              0.9875         0.9870  0.9800  0.9850       0.9975\n",
       "8              0.9855         0.9870  0.9795  0.9840       0.9970\n",
       "9              0.9870         0.9875  0.9820  0.9845       0.9975\n",
       "10             0.9860         0.9865  0.9795  0.9840       0.9970\n",
       "11             0.9900         0.9885  0.9825  0.9845       0.9975\n",
       "12             0.9885         0.9865  0.9825  0.9855       0.9970\n",
       "13             0.9870         0.9865  0.9780  0.9850       0.9975\n",
       "14             0.9830         0.9845  0.9810  0.9830       0.9975\n",
       "15             0.9860         0.9870  0.9790  0.9865       0.9975\n",
       "16             0.9855         0.9865  0.9810  0.9860       0.9970\n",
       "17             0.9905         0.9860  0.9800  0.9865       0.9965\n",
       "18             0.9875         0.9890  0.9805  0.9850       0.9975\n",
       "19             0.9870         0.9860  0.9795  0.9845       0.9975\n",
       "20             0.9830         0.9850  0.9820  0.9840       0.9975\n",
       "21             0.9865         0.9860  0.9825  0.9850       0.9975\n",
       "22             0.9890         0.9875  0.9780  0.9865       0.9980\n",
       "23             0.9870         0.9870  0.9810  0.9875       0.9970\n",
       "24             0.9865         0.9865  0.9795  0.9870       0.9970\n",
       "25             0.9885         0.9860  0.9790  0.9820       0.9975\n",
       "26             0.9875         0.9865  0.9770  0.9840       0.9970\n",
       "27             0.9860         0.9840  0.9785  0.9865       0.9970\n",
       "28             0.9860         0.9855  0.9790  0.9835       0.9975\n",
       "29             0.9880         0.9865  0.9805  0.9865       0.9970"
      ]
     },
     "execution_count": 13,
     "metadata": {},
     "output_type": "execute_result"
    }
   ],
   "source": [
    "resultados"
   ]
  },
  {
   "cell_type": "code",
   "execution_count": 14,
   "metadata": {},
   "outputs": [
    {
     "data": {
      "text/html": [
       "<div>\n",
       "<style scoped>\n",
       "    .dataframe tbody tr th:only-of-type {\n",
       "        vertical-align: middle;\n",
       "    }\n",
       "\n",
       "    .dataframe tbody tr th {\n",
       "        vertical-align: top;\n",
       "    }\n",
       "\n",
       "    .dataframe thead th {\n",
       "        text-align: right;\n",
       "    }\n",
       "</style>\n",
       "<table border=\"1\" class=\"dataframe\">\n",
       "  <thead>\n",
       "    <tr style=\"text-align: right;\">\n",
       "      <th></th>\n",
       "      <th>Arvore de Decisão</th>\n",
       "      <th>Random forest</th>\n",
       "      <th>KNN</th>\n",
       "      <th>SVM</th>\n",
       "      <th>Rede neural</th>\n",
       "    </tr>\n",
       "  </thead>\n",
       "  <tbody>\n",
       "    <tr>\n",
       "      <th>count</th>\n",
       "      <td>30.000000</td>\n",
       "      <td>30.00000</td>\n",
       "      <td>30.000000</td>\n",
       "      <td>30.000000</td>\n",
       "      <td>30.000000</td>\n",
       "    </tr>\n",
       "    <tr>\n",
       "      <th>mean</th>\n",
       "      <td>0.987117</td>\n",
       "      <td>0.98660</td>\n",
       "      <td>0.980050</td>\n",
       "      <td>0.985067</td>\n",
       "      <td>0.997333</td>\n",
       "    </tr>\n",
       "    <tr>\n",
       "      <th>std</th>\n",
       "      <td>0.001799</td>\n",
       "      <td>0.00138</td>\n",
       "      <td>0.001533</td>\n",
       "      <td>0.001278</td>\n",
       "      <td>0.000356</td>\n",
       "    </tr>\n",
       "    <tr>\n",
       "      <th>min</th>\n",
       "      <td>0.983000</td>\n",
       "      <td>0.98400</td>\n",
       "      <td>0.977000</td>\n",
       "      <td>0.982000</td>\n",
       "      <td>0.996500</td>\n",
       "    </tr>\n",
       "    <tr>\n",
       "      <th>25%</th>\n",
       "      <td>0.986000</td>\n",
       "      <td>0.98600</td>\n",
       "      <td>0.979000</td>\n",
       "      <td>0.984125</td>\n",
       "      <td>0.997000</td>\n",
       "    </tr>\n",
       "    <tr>\n",
       "      <th>50%</th>\n",
       "      <td>0.987000</td>\n",
       "      <td>0.98650</td>\n",
       "      <td>0.980000</td>\n",
       "      <td>0.985000</td>\n",
       "      <td>0.997500</td>\n",
       "    </tr>\n",
       "    <tr>\n",
       "      <th>75%</th>\n",
       "      <td>0.988000</td>\n",
       "      <td>0.98700</td>\n",
       "      <td>0.981000</td>\n",
       "      <td>0.986375</td>\n",
       "      <td>0.997500</td>\n",
       "    </tr>\n",
       "    <tr>\n",
       "      <th>max</th>\n",
       "      <td>0.990500</td>\n",
       "      <td>0.98950</td>\n",
       "      <td>0.982500</td>\n",
       "      <td>0.987500</td>\n",
       "      <td>0.998000</td>\n",
       "    </tr>\n",
       "  </tbody>\n",
       "</table>\n",
       "</div>"
      ],
      "text/plain": [
       "       Arvore de Decisão  Random forest        KNN        SVM  Rede neural\n",
       "count          30.000000       30.00000  30.000000  30.000000    30.000000\n",
       "mean            0.987117        0.98660   0.980050   0.985067     0.997333\n",
       "std             0.001799        0.00138   0.001533   0.001278     0.000356\n",
       "min             0.983000        0.98400   0.977000   0.982000     0.996500\n",
       "25%             0.986000        0.98600   0.979000   0.984125     0.997000\n",
       "50%             0.987000        0.98650   0.980000   0.985000     0.997500\n",
       "75%             0.988000        0.98700   0.981000   0.986375     0.997500\n",
       "max             0.990500        0.98950   0.982500   0.987500     0.998000"
      ]
     },
     "execution_count": 14,
     "metadata": {},
     "output_type": "execute_result"
    }
   ],
   "source": [
    "resultados.describe() #std = desvio padrão. Quanto menor, melhor!\n"
   ]
  },
  {
   "cell_type": "code",
   "execution_count": 15,
   "metadata": {},
   "outputs": [
    {
     "data": {
      "text/plain": [
       "Arvore de Decisão    0.182234\n",
       "Random forest        0.139839\n",
       "KNN                  0.156446\n",
       "SVM                  0.129739\n",
       "Rede neural          0.035653\n",
       "dtype: float64"
      ]
     },
     "execution_count": 15,
     "metadata": {},
     "output_type": "execute_result"
    }
   ],
   "source": [
    "#Coeficiente de váriação\n",
    "(resultados.std() / resultados.mean()) * 100"
   ]
  },
  {
   "cell_type": "markdown",
   "metadata": {},
   "source": [
    "\n",
    "* Respondendo qual é o melhor algoritmo, estatisticamente \n",
    "* Os dados precisam está em uma distribuição normal\n"
   ]
  },
  {
   "cell_type": "code",
   "execution_count": 16,
   "metadata": {},
   "outputs": [],
   "source": [
    "alpha = 0.05 #Confiança de 95% do teste"
   ]
  },
  {
   "cell_type": "markdown",
   "metadata": {},
   "source": [
    "# Teste de SHAPIRO"
   ]
  },
  {
   "cell_type": "code",
   "execution_count": 17,
   "metadata": {},
   "outputs": [
    {
     "data": {
      "text/plain": [
       "(ShapiroResult(statistic=0.9566392302513123, pvalue=0.2535684108734131),\n",
       " ShapiroResult(statistic=0.9576259255409241, pvalue=0.2690437138080597),\n",
       " ShapiroResult(statistic=0.9584026336669922, pvalue=0.28181564807891846),\n",
       " ShapiroResult(statistic=0.9581288695335388, pvalue=0.2772541046142578),\n",
       " ShapiroResult(statistic=0.836701512336731, pvalue=0.00033064791932702065))"
      ]
     },
     "execution_count": 17,
     "metadata": {},
     "output_type": "execute_result"
    }
   ],
   "source": [
    "from scipy.stats import shapiro\n",
    "shapiro(resultados_arvore_decisao), shapiro(resultados_random_forest), shapiro(resultados_knn), shapiro(resultados_svm), shapiro(resultados_rede_neural)\n",
    "# Como o número de p (pvalue) é menor apenas nas redes neurais, em comparação ao número de alpha, esse algoritmo foi o unico a que rejeitou a hipotese nula e aceitou a hipotese alternativa. \n",
    "# Indicando que essa é uma distribuição não normal, fazendo assim possiel a plicação do teste de ANOVA e do teste de Tukey"
   ]
  },
  {
   "cell_type": "markdown",
   "metadata": {},
   "source": [
    "# Analisando o gráfico da normal"
   ]
  },
  {
   "cell_type": "code",
   "execution_count": 18,
   "metadata": {},
   "outputs": [
    {
     "data": {
      "image/png": "[encoded data removed]",
      "text/plain": [
       "<Figure size 360x360 with 1 Axes>"
      ]
     },
     "metadata": {
      "needs_background": "light"
     },
     "output_type": "display_data"
    },
    {
     "data": {
      "image/png": "[encoded data removed]",
      "text/plain": [
       "<Figure size 500x500 with 1 Axes>"
      ]
     },
     "metadata": {},
     "output_type": "display_data"
    },
    {
     "data": {
      "image/png": "[encoded data removed]",
      "text/plain": [
       "<Figure size 500x500 with 1 Axes>"
      ]
     },
     "metadata": {},
     "output_type": "display_data"
    },
    {
     "data": {
      "image/png": "[encoded data removed]",
      "text/plain": [
       "<Figure size 500x500 with 1 Axes>"
      ]
     },
     "metadata": {},
     "output_type": "display_data"
    },
    {
     "data": {
      "image/png": "[encoded data removed]",
      "text/plain": [
       "<Figure size 500x500 with 1 Axes>"
      ]
     },
     "metadata": {},
     "output_type": "display_data"
    }
   ],
   "source": [
    "import seaborn as sns\n",
    "sns.displot(resultados_arvore_decisao, kind= \"kde\");\n",
    "\n",
    "sns.displot(resultados_random_forest, kind= \"kde\");\n",
    "\n",
    "sns.displot(resultados_knn, kind= \"kde\");\n",
    "\n",
    "sns.displot(resultados_svm, kind= \"kde\");\n",
    "\n",
    "sns.displot(resultados_rede_neural, kind= \"kde\");"
   ]
  },
  {
   "cell_type": "markdown",
   "metadata": {},
   "source": [
    "# TESTE: **ANOVA** e de **TUKEY** (Só é possivel em dados que estejam em uma distribuição normal, usando o teste de shapiro)\n"
   ]
  },
  {
   "cell_type": "code",
   "execution_count": 19,
   "metadata": {},
   "outputs": [],
   "source": [
    "from scipy.stats import f_oneway"
   ]
  },
  {
   "cell_type": "code",
   "execution_count": 20,
   "metadata": {},
   "outputs": [
    {
     "name": "stdout",
     "output_type": "stream",
     "text": [
      "Hipotese nula rejeitada. Dados são diferentes\n"
     ]
    }
   ],
   "source": [
    "\n",
    "_, p = f_oneway(resultados_arvore_decisao, resultados_random_forest, resultados_knn, resultados_svm, resultados_rede_neural)\n",
    "\n",
    "alpha = 0.05\n",
    "if p <= alpha:\n",
    "    print(\"Hipotese nula rejeitada. Dados são diferentes\")\n",
    "else:\n",
    "    print(\"Hipótese alternativa rejeitada. Resultados são iguais\")\n",
    "#RESPOSTA: Hipotese nula rejeitada. Dados são diferentes. \n",
    "#Significa que os resultados da arvore é diferente do random forest, que é diferente do knn e assim por diante. \n",
    "#Chegando a conclusão que os dados são diferentes, agora pode aplicar o teste de Tukey, para saber qual é o melhor algoritmo. "
   ]
  },
  {
   "cell_type": "code",
   "execution_count": 21,
   "metadata": {},
   "outputs": [],
   "source": [
    "\n",
    "resultados_algoritmos = {\"Accuracy\": np.concatenate([resultados_arvore_decisao, resultados_random_forest, resultados_knn, resultados_svm, resultados_rede_neural]),\n",
    "                          \"Algoritmo\": ['Árvore de decisão','Árvore de decisão','Árvore de decisão','Árvore de decisão','Árvore de decisão','Árvore de decisão','Árvore de decisão','Árvore de decisão','Árvore de decisão','Árvore de decisão','Árvore de decisão','Árvore de decisão','Árvore de decisão','Árvore de decisão','Árvore de decisão','Árvore de decisão','Árvore de decisão','Árvore de decisão','Árvore de decisão','Árvore de decisão','Árvore de decisão','Árvore de decisão','Árvore de decisão','Árvore de decisão','Árvore de decisão','Árvore de decisão','Árvore de decisão','Árvore de decisão','Árvore de decisão','Árvore de decisão',\n",
    "                                        'Random forest','Random forest','Random forest','Random forest','Random forest','Random forest','Random forest','Random forest','Random forest','Random forest','Random forest','Random forest','Random forest','Random forest','Random forest','Random forest','Random forest','Random forest','Random forest','Random forest','Random forest','Random forest','Random forest','Random forest','Random forest','Random forest','Random forest','Random forest','Random forest','Random forest',\n",
    "                                        'KNN','KNN','KNN','KNN','KNN','KNN','KNN','KNN','KNN','KNN','KNN','KNN','KNN','KNN','KNN','KNN','KNN','KNN','KNN','KNN','KNN','KNN','KNN','KNN','KNN','KNN','KNN','KNN','KNN','KNN',\n",
    "                                        'SVM','SVM','SVM','SVM','SVM','SVM','SVM','SVM','SVM','SVM','SVM','SVM','SVM','SVM','SVM','SVM','SVM','SVM','SVM','SVM','SVM','SVM','SVM','SVM','SVM','SVM','SVM','SVM','SVM','SVM',\n",
    "                                        'Rede neural','Rede neural','Rede neural','Rede neural','Rede neural','Rede neural','Rede neural','Rede neural','Rede neural','Rede neural','Rede neural','Rede neural','Rede neural','Rede neural','Rede neural','Rede neural','Rede neural','Rede neural','Rede neural','Rede neural','Rede neural','Rede neural','Rede neural','Rede neural','Rede neural','Rede neural','Rede neural','Rede neural','Rede neural','Rede neural']}\n"
   ]
  },
  {
   "cell_type": "code",
   "execution_count": 22,
   "metadata": {},
   "outputs": [],
   "source": [
    "resultados_df = pd.DataFrame(resultados_algoritmos)"
   ]
  },
  {
   "cell_type": "code",
   "execution_count": 27,
   "metadata": {},
   "outputs": [
    {
     "data": {
      "text/html": [
       "<div>\n",
       "<style scoped>\n",
       "    .dataframe tbody tr th:only-of-type {\n",
       "        vertical-align: middle;\n",
       "    }\n",
       "\n",
       "    .dataframe tbody tr th {\n",
       "        vertical-align: top;\n",
       "    }\n",
       "\n",
       "    .dataframe thead th {\n",
       "        text-align: right;\n",
       "    }\n",
       "</style>\n",
       "<table border=\"1\" class=\"dataframe\">\n",
       "  <thead>\n",
       "    <tr style=\"text-align: right;\">\n",
       "      <th></th>\n",
       "      <th>Accuracy</th>\n",
       "      <th>Algoritmo</th>\n",
       "    </tr>\n",
       "  </thead>\n",
       "  <tbody>\n",
       "    <tr>\n",
       "      <th>0</th>\n",
       "      <td>0.9860</td>\n",
       "      <td>Árvore de decisão</td>\n",
       "    </tr>\n",
       "    <tr>\n",
       "      <th>1</th>\n",
       "      <td>0.9855</td>\n",
       "      <td>Árvore de decisão</td>\n",
       "    </tr>\n",
       "    <tr>\n",
       "      <th>2</th>\n",
       "      <td>0.9905</td>\n",
       "      <td>Árvore de decisão</td>\n",
       "    </tr>\n",
       "    <tr>\n",
       "      <th>3</th>\n",
       "      <td>0.9875</td>\n",
       "      <td>Árvore de decisão</td>\n",
       "    </tr>\n",
       "    <tr>\n",
       "      <th>4</th>\n",
       "      <td>0.9880</td>\n",
       "      <td>Árvore de decisão</td>\n",
       "    </tr>\n",
       "    <tr>\n",
       "      <th>...</th>\n",
       "      <td>...</td>\n",
       "      <td>...</td>\n",
       "    </tr>\n",
       "    <tr>\n",
       "      <th>145</th>\n",
       "      <td>0.9975</td>\n",
       "      <td>Rede neural</td>\n",
       "    </tr>\n",
       "    <tr>\n",
       "      <th>146</th>\n",
       "      <td>0.9970</td>\n",
       "      <td>Rede neural</td>\n",
       "    </tr>\n",
       "    <tr>\n",
       "      <th>147</th>\n",
       "      <td>0.9970</td>\n",
       "      <td>Rede neural</td>\n",
       "    </tr>\n",
       "    <tr>\n",
       "      <th>148</th>\n",
       "      <td>0.9975</td>\n",
       "      <td>Rede neural</td>\n",
       "    </tr>\n",
       "    <tr>\n",
       "      <th>149</th>\n",
       "      <td>0.9970</td>\n",
       "      <td>Rede neural</td>\n",
       "    </tr>\n",
       "  </tbody>\n",
       "</table>\n",
       "<p>150 rows × 2 columns</p>\n",
       "</div>"
      ],
      "text/plain": [
       "     Accuracy          Algoritmo\n",
       "0      0.9860  Árvore de decisão\n",
       "1      0.9855  Árvore de decisão\n",
       "2      0.9905  Árvore de decisão\n",
       "3      0.9875  Árvore de decisão\n",
       "4      0.9880  Árvore de decisão\n",
       "..        ...                ...\n",
       "145    0.9975        Rede neural\n",
       "146    0.9970        Rede neural\n",
       "147    0.9970        Rede neural\n",
       "148    0.9975        Rede neural\n",
       "149    0.9970        Rede neural\n",
       "\n",
       "[150 rows x 2 columns]"
      ]
     },
     "execution_count": 27,
     "metadata": {},
     "output_type": "execute_result"
    }
   ],
   "source": [
    "resultados_df"
   ]
  },
  {
   "cell_type": "code",
   "execution_count": 28,
   "metadata": {},
   "outputs": [
    {
     "data": {
      "text/html": [
       "<div>\n",
       "<style scoped>\n",
       "    .dataframe tbody tr th:only-of-type {\n",
       "        vertical-align: middle;\n",
       "    }\n",
       "\n",
       "    .dataframe tbody tr th {\n",
       "        vertical-align: top;\n",
       "    }\n",
       "\n",
       "    .dataframe thead th {\n",
       "        text-align: right;\n",
       "    }\n",
       "</style>\n",
       "<table border=\"1\" class=\"dataframe\">\n",
       "  <thead>\n",
       "    <tr style=\"text-align: right;\">\n",
       "      <th></th>\n",
       "      <th>Accuracy</th>\n",
       "      <th>Algoritmo</th>\n",
       "    </tr>\n",
       "  </thead>\n",
       "  <tbody>\n",
       "    <tr>\n",
       "      <th>0</th>\n",
       "      <td>0.9860</td>\n",
       "      <td>Árvore de decisão</td>\n",
       "    </tr>\n",
       "    <tr>\n",
       "      <th>1</th>\n",
       "      <td>0.9855</td>\n",
       "      <td>Árvore de decisão</td>\n",
       "    </tr>\n",
       "    <tr>\n",
       "      <th>2</th>\n",
       "      <td>0.9905</td>\n",
       "      <td>Árvore de decisão</td>\n",
       "    </tr>\n",
       "    <tr>\n",
       "      <th>3</th>\n",
       "      <td>0.9875</td>\n",
       "      <td>Árvore de decisão</td>\n",
       "    </tr>\n",
       "    <tr>\n",
       "      <th>4</th>\n",
       "      <td>0.9880</td>\n",
       "      <td>Árvore de decisão</td>\n",
       "    </tr>\n",
       "    <tr>\n",
       "      <th>5</th>\n",
       "      <td>0.9890</td>\n",
       "      <td>Árvore de decisão</td>\n",
       "    </tr>\n",
       "    <tr>\n",
       "      <th>6</th>\n",
       "      <td>0.9880</td>\n",
       "      <td>Árvore de decisão</td>\n",
       "    </tr>\n",
       "    <tr>\n",
       "      <th>7</th>\n",
       "      <td>0.9875</td>\n",
       "      <td>Árvore de decisão</td>\n",
       "    </tr>\n",
       "    <tr>\n",
       "      <th>8</th>\n",
       "      <td>0.9855</td>\n",
       "      <td>Árvore de decisão</td>\n",
       "    </tr>\n",
       "    <tr>\n",
       "      <th>9</th>\n",
       "      <td>0.9870</td>\n",
       "      <td>Árvore de decisão</td>\n",
       "    </tr>\n",
       "    <tr>\n",
       "      <th>10</th>\n",
       "      <td>0.9860</td>\n",
       "      <td>Árvore de decisão</td>\n",
       "    </tr>\n",
       "    <tr>\n",
       "      <th>11</th>\n",
       "      <td>0.9900</td>\n",
       "      <td>Árvore de decisão</td>\n",
       "    </tr>\n",
       "    <tr>\n",
       "      <th>12</th>\n",
       "      <td>0.9885</td>\n",
       "      <td>Árvore de decisão</td>\n",
       "    </tr>\n",
       "    <tr>\n",
       "      <th>13</th>\n",
       "      <td>0.9870</td>\n",
       "      <td>Árvore de decisão</td>\n",
       "    </tr>\n",
       "    <tr>\n",
       "      <th>14</th>\n",
       "      <td>0.9830</td>\n",
       "      <td>Árvore de decisão</td>\n",
       "    </tr>\n",
       "    <tr>\n",
       "      <th>15</th>\n",
       "      <td>0.9860</td>\n",
       "      <td>Árvore de decisão</td>\n",
       "    </tr>\n",
       "    <tr>\n",
       "      <th>16</th>\n",
       "      <td>0.9855</td>\n",
       "      <td>Árvore de decisão</td>\n",
       "    </tr>\n",
       "    <tr>\n",
       "      <th>17</th>\n",
       "      <td>0.9905</td>\n",
       "      <td>Árvore de decisão</td>\n",
       "    </tr>\n",
       "    <tr>\n",
       "      <th>18</th>\n",
       "      <td>0.9875</td>\n",
       "      <td>Árvore de decisão</td>\n",
       "    </tr>\n",
       "    <tr>\n",
       "      <th>19</th>\n",
       "      <td>0.9870</td>\n",
       "      <td>Árvore de decisão</td>\n",
       "    </tr>\n",
       "    <tr>\n",
       "      <th>20</th>\n",
       "      <td>0.9830</td>\n",
       "      <td>Árvore de decisão</td>\n",
       "    </tr>\n",
       "    <tr>\n",
       "      <th>21</th>\n",
       "      <td>0.9865</td>\n",
       "      <td>Árvore de decisão</td>\n",
       "    </tr>\n",
       "    <tr>\n",
       "      <th>22</th>\n",
       "      <td>0.9890</td>\n",
       "      <td>Árvore de decisão</td>\n",
       "    </tr>\n",
       "    <tr>\n",
       "      <th>23</th>\n",
       "      <td>0.9870</td>\n",
       "      <td>Árvore de decisão</td>\n",
       "    </tr>\n",
       "    <tr>\n",
       "      <th>24</th>\n",
       "      <td>0.9865</td>\n",
       "      <td>Árvore de decisão</td>\n",
       "    </tr>\n",
       "    <tr>\n",
       "      <th>25</th>\n",
       "      <td>0.9885</td>\n",
       "      <td>Árvore de decisão</td>\n",
       "    </tr>\n",
       "    <tr>\n",
       "      <th>26</th>\n",
       "      <td>0.9875</td>\n",
       "      <td>Árvore de decisão</td>\n",
       "    </tr>\n",
       "    <tr>\n",
       "      <th>27</th>\n",
       "      <td>0.9860</td>\n",
       "      <td>Árvore de decisão</td>\n",
       "    </tr>\n",
       "    <tr>\n",
       "      <th>28</th>\n",
       "      <td>0.9860</td>\n",
       "      <td>Árvore de decisão</td>\n",
       "    </tr>\n",
       "    <tr>\n",
       "      <th>29</th>\n",
       "      <td>0.9880</td>\n",
       "      <td>Árvore de decisão</td>\n",
       "    </tr>\n",
       "  </tbody>\n",
       "</table>\n",
       "</div>"
      ],
      "text/plain": [
       "    Accuracy          Algoritmo\n",
       "0     0.9860  Árvore de decisão\n",
       "1     0.9855  Árvore de decisão\n",
       "2     0.9905  Árvore de decisão\n",
       "3     0.9875  Árvore de decisão\n",
       "4     0.9880  Árvore de decisão\n",
       "5     0.9890  Árvore de decisão\n",
       "6     0.9880  Árvore de decisão\n",
       "7     0.9875  Árvore de decisão\n",
       "8     0.9855  Árvore de decisão\n",
       "9     0.9870  Árvore de decisão\n",
       "10    0.9860  Árvore de decisão\n",
       "11    0.9900  Árvore de decisão\n",
       "12    0.9885  Árvore de decisão\n",
       "13    0.9870  Árvore de decisão\n",
       "14    0.9830  Árvore de decisão\n",
       "15    0.9860  Árvore de decisão\n",
       "16    0.9855  Árvore de decisão\n",
       "17    0.9905  Árvore de decisão\n",
       "18    0.9875  Árvore de decisão\n",
       "19    0.9870  Árvore de decisão\n",
       "20    0.9830  Árvore de decisão\n",
       "21    0.9865  Árvore de decisão\n",
       "22    0.9890  Árvore de decisão\n",
       "23    0.9870  Árvore de decisão\n",
       "24    0.9865  Árvore de decisão\n",
       "25    0.9885  Árvore de decisão\n",
       "26    0.9875  Árvore de decisão\n",
       "27    0.9860  Árvore de decisão\n",
       "28    0.9860  Árvore de decisão\n",
       "29    0.9880  Árvore de decisão"
      ]
     },
     "execution_count": 28,
     "metadata": {},
     "output_type": "execute_result"
    }
   ],
   "source": [
    "resultados_df.head(30)"
   ]
  },
  {
   "cell_type": "code",
   "execution_count": 26,
   "metadata": {},
   "outputs": [
    {
     "name": "stderr",
     "output_type": "stream",
     "text": [
      "C:\\Users\\kenne\\AppData\\Local\\Temp\\ipykernel_11960\\2344712514.py:1: FutureWarning: Dropping of nuisance columns in DataFrame reductions (with 'numeric_only=None') is deprecated; in a future version this will raise TypeError.  Select only valid columns before calling the reduction.\n",
      "  resultados_df.head(30).mean()\n"
     ]
    },
    {
     "data": {
      "text/plain": [
       "Accuracy    0.987117\n",
       "dtype: float64"
      ]
     },
     "execution_count": 26,
     "metadata": {},
     "output_type": "execute_result"
    }
   ],
   "source": [
    "resultados_df.head(30).mean()"
   ]
  },
  {
   "cell_type": "code",
   "execution_count": 29,
   "metadata": {},
   "outputs": [
    {
     "data": {
      "text/html": [
       "<div>\n",
       "<style scoped>\n",
       "    .dataframe tbody tr th:only-of-type {\n",
       "        vertical-align: middle;\n",
       "    }\n",
       "\n",
       "    .dataframe tbody tr th {\n",
       "        vertical-align: top;\n",
       "    }\n",
       "\n",
       "    .dataframe thead th {\n",
       "        text-align: right;\n",
       "    }\n",
       "</style>\n",
       "<table border=\"1\" class=\"dataframe\">\n",
       "  <thead>\n",
       "    <tr style=\"text-align: right;\">\n",
       "      <th></th>\n",
       "      <th>Accuracy</th>\n",
       "      <th>Algoritmo</th>\n",
       "    </tr>\n",
       "  </thead>\n",
       "  <tbody>\n",
       "    <tr>\n",
       "      <th>120</th>\n",
       "      <td>0.9975</td>\n",
       "      <td>Rede neural</td>\n",
       "    </tr>\n",
       "    <tr>\n",
       "      <th>121</th>\n",
       "      <td>0.9980</td>\n",
       "      <td>Rede neural</td>\n",
       "    </tr>\n",
       "    <tr>\n",
       "      <th>122</th>\n",
       "      <td>0.9975</td>\n",
       "      <td>Rede neural</td>\n",
       "    </tr>\n",
       "    <tr>\n",
       "      <th>123</th>\n",
       "      <td>0.9970</td>\n",
       "      <td>Rede neural</td>\n",
       "    </tr>\n",
       "    <tr>\n",
       "      <th>124</th>\n",
       "      <td>0.9980</td>\n",
       "      <td>Rede neural</td>\n",
       "    </tr>\n",
       "    <tr>\n",
       "      <th>125</th>\n",
       "      <td>0.9975</td>\n",
       "      <td>Rede neural</td>\n",
       "    </tr>\n",
       "    <tr>\n",
       "      <th>126</th>\n",
       "      <td>0.9970</td>\n",
       "      <td>Rede neural</td>\n",
       "    </tr>\n",
       "    <tr>\n",
       "      <th>127</th>\n",
       "      <td>0.9975</td>\n",
       "      <td>Rede neural</td>\n",
       "    </tr>\n",
       "    <tr>\n",
       "      <th>128</th>\n",
       "      <td>0.9970</td>\n",
       "      <td>Rede neural</td>\n",
       "    </tr>\n",
       "    <tr>\n",
       "      <th>129</th>\n",
       "      <td>0.9975</td>\n",
       "      <td>Rede neural</td>\n",
       "    </tr>\n",
       "    <tr>\n",
       "      <th>130</th>\n",
       "      <td>0.9970</td>\n",
       "      <td>Rede neural</td>\n",
       "    </tr>\n",
       "    <tr>\n",
       "      <th>131</th>\n",
       "      <td>0.9975</td>\n",
       "      <td>Rede neural</td>\n",
       "    </tr>\n",
       "    <tr>\n",
       "      <th>132</th>\n",
       "      <td>0.9970</td>\n",
       "      <td>Rede neural</td>\n",
       "    </tr>\n",
       "    <tr>\n",
       "      <th>133</th>\n",
       "      <td>0.9975</td>\n",
       "      <td>Rede neural</td>\n",
       "    </tr>\n",
       "    <tr>\n",
       "      <th>134</th>\n",
       "      <td>0.9975</td>\n",
       "      <td>Rede neural</td>\n",
       "    </tr>\n",
       "    <tr>\n",
       "      <th>135</th>\n",
       "      <td>0.9975</td>\n",
       "      <td>Rede neural</td>\n",
       "    </tr>\n",
       "    <tr>\n",
       "      <th>136</th>\n",
       "      <td>0.9970</td>\n",
       "      <td>Rede neural</td>\n",
       "    </tr>\n",
       "    <tr>\n",
       "      <th>137</th>\n",
       "      <td>0.9965</td>\n",
       "      <td>Rede neural</td>\n",
       "    </tr>\n",
       "    <tr>\n",
       "      <th>138</th>\n",
       "      <td>0.9975</td>\n",
       "      <td>Rede neural</td>\n",
       "    </tr>\n",
       "    <tr>\n",
       "      <th>139</th>\n",
       "      <td>0.9975</td>\n",
       "      <td>Rede neural</td>\n",
       "    </tr>\n",
       "    <tr>\n",
       "      <th>140</th>\n",
       "      <td>0.9975</td>\n",
       "      <td>Rede neural</td>\n",
       "    </tr>\n",
       "    <tr>\n",
       "      <th>141</th>\n",
       "      <td>0.9975</td>\n",
       "      <td>Rede neural</td>\n",
       "    </tr>\n",
       "    <tr>\n",
       "      <th>142</th>\n",
       "      <td>0.9980</td>\n",
       "      <td>Rede neural</td>\n",
       "    </tr>\n",
       "    <tr>\n",
       "      <th>143</th>\n",
       "      <td>0.9970</td>\n",
       "      <td>Rede neural</td>\n",
       "    </tr>\n",
       "    <tr>\n",
       "      <th>144</th>\n",
       "      <td>0.9970</td>\n",
       "      <td>Rede neural</td>\n",
       "    </tr>\n",
       "    <tr>\n",
       "      <th>145</th>\n",
       "      <td>0.9975</td>\n",
       "      <td>Rede neural</td>\n",
       "    </tr>\n",
       "    <tr>\n",
       "      <th>146</th>\n",
       "      <td>0.9970</td>\n",
       "      <td>Rede neural</td>\n",
       "    </tr>\n",
       "    <tr>\n",
       "      <th>147</th>\n",
       "      <td>0.9970</td>\n",
       "      <td>Rede neural</td>\n",
       "    </tr>\n",
       "    <tr>\n",
       "      <th>148</th>\n",
       "      <td>0.9975</td>\n",
       "      <td>Rede neural</td>\n",
       "    </tr>\n",
       "    <tr>\n",
       "      <th>149</th>\n",
       "      <td>0.9970</td>\n",
       "      <td>Rede neural</td>\n",
       "    </tr>\n",
       "  </tbody>\n",
       "</table>\n",
       "</div>"
      ],
      "text/plain": [
       "     Accuracy    Algoritmo\n",
       "120    0.9975  Rede neural\n",
       "121    0.9980  Rede neural\n",
       "122    0.9975  Rede neural\n",
       "123    0.9970  Rede neural\n",
       "124    0.9980  Rede neural\n",
       "125    0.9975  Rede neural\n",
       "126    0.9970  Rede neural\n",
       "127    0.9975  Rede neural\n",
       "128    0.9970  Rede neural\n",
       "129    0.9975  Rede neural\n",
       "130    0.9970  Rede neural\n",
       "131    0.9975  Rede neural\n",
       "132    0.9970  Rede neural\n",
       "133    0.9975  Rede neural\n",
       "134    0.9975  Rede neural\n",
       "135    0.9975  Rede neural\n",
       "136    0.9970  Rede neural\n",
       "137    0.9965  Rede neural\n",
       "138    0.9975  Rede neural\n",
       "139    0.9975  Rede neural\n",
       "140    0.9975  Rede neural\n",
       "141    0.9975  Rede neural\n",
       "142    0.9980  Rede neural\n",
       "143    0.9970  Rede neural\n",
       "144    0.9970  Rede neural\n",
       "145    0.9975  Rede neural\n",
       "146    0.9970  Rede neural\n",
       "147    0.9970  Rede neural\n",
       "148    0.9975  Rede neural\n",
       "149    0.9970  Rede neural"
      ]
     },
     "execution_count": 29,
     "metadata": {},
     "output_type": "execute_result"
    }
   ],
   "source": [
    "resultados_df.tail(30)"
   ]
  },
  {
   "cell_type": "code",
   "execution_count": 24,
   "metadata": {},
   "outputs": [
    {
     "name": "stderr",
     "output_type": "stream",
     "text": [
      "C:\\Users\\kenne\\AppData\\Local\\Temp\\ipykernel_11960\\3903935635.py:1: FutureWarning: Dropping of nuisance columns in DataFrame reductions (with 'numeric_only=None') is deprecated; in a future version this will raise TypeError.  Select only valid columns before calling the reduction.\n",
      "  resultados_df.tail(30).mean()\n"
     ]
    },
    {
     "data": {
      "text/plain": [
       "Accuracy    0.997333\n",
       "dtype: float64"
      ]
     },
     "execution_count": 24,
     "metadata": {},
     "output_type": "execute_result"
    }
   ],
   "source": [
    "resultados_df.tail(30).mean()\n"
   ]
  },
  {
   "cell_type": "markdown",
   "metadata": {},
   "source": [
    "# APLICAÇÃO DO TESTE DE TUKEY"
   ]
  },
  {
   "cell_type": "code",
   "execution_count": 30,
   "metadata": {},
   "outputs": [
    {
     "name": "stdout",
     "output_type": "stream",
     "text": [
      "         Multiple Comparison of Means - Tukey HSD, FWER=0.05          \n",
      "======================================================================\n",
      "    group1          group2      meandiff p-adj   lower   upper  reject\n",
      "----------------------------------------------------------------------\n",
      "          KNN     Random forest   0.0065    0.0  0.0056  0.0075   True\n",
      "          KNN       Rede neural   0.0173    0.0  0.0163  0.0183   True\n",
      "          KNN               SVM    0.005    0.0   0.004   0.006   True\n",
      "          KNN Árvore de decisão   0.0071    0.0  0.0061   0.008   True\n",
      "Random forest       Rede neural   0.0107    0.0  0.0098  0.0117   True\n",
      "Random forest               SVM  -0.0015 0.0002 -0.0025 -0.0006   True\n",
      "Random forest Árvore de decisão   0.0005 0.5828 -0.0005  0.0015  False\n",
      "  Rede neural               SVM  -0.0123    0.0 -0.0132 -0.0113   True\n",
      "  Rede neural Árvore de decisão  -0.0102    0.0 -0.0112 -0.0092   True\n",
      "          SVM Árvore de decisão   0.0021    0.0  0.0011   0.003   True\n",
      "----------------------------------------------------------------------\n"
     ]
    }
   ],
   "source": [
    "from statsmodels.stats.multicomp import MultiComparison\n",
    "\n",
    "\n",
    "compara_algoritmos = MultiComparison(resultados_df[\"Accuracy\"], resultados_df[\"Algoritmo\"])\n",
    "teste_estatistico = compara_algoritmos.tukeyhsd()\n",
    "print (teste_estatistico) #True =  Algoritmos possuem diferenças estatisticas significativas\n",
    "                          #False = Algoritmos não são estatisticamente diferentes. "
   ]
  },
  {
   "cell_type": "code",
   "execution_count": 31,
   "metadata": {},
   "outputs": [
    {
     "data": {
      "text/plain": [
       "Arvore de Decisão    0.987117\n",
       "Random forest        0.986600\n",
       "KNN                  0.980050\n",
       "SVM                  0.985067\n",
       "Rede neural          0.997333\n",
       "dtype: float64"
      ]
     },
     "execution_count": 31,
     "metadata": {},
     "output_type": "execute_result"
    }
   ],
   "source": [
    "resultados.mean()"
   ]
  },
  {
   "cell_type": "code",
   "execution_count": 32,
   "metadata": {},
   "outputs": [
    {
     "data": {
      "image/png": "[encoded data removed]",
      "text/plain": [
       "<Figure size 1000x600 with 1 Axes>"
      ]
     },
     "metadata": {},
     "output_type": "display_data"
    }
   ],
   "source": [
    "teste_estatistico.plot_simultaneous(); #Grafico mostrando a superioridade dos algoritmos. REDE NEURAL melhor que todos os outros! "
   ]
  },
  {
   "cell_type": "markdown",
   "metadata": {},
   "source": [
    "# FIM"
   ]
  }
 ],
 "metadata": {
  "kernelspec": {
   "display_name": "Python 3.10.7 64-bit (microsoft store)",
   "language": "python",
   "name": "python3"
  },
  "language_info": {
   "codemirror_mode": {
    "name": "ipython",
    "version": 3
   },
   "file_extension": ".py",
   "mimetype": "text/x-python",
   "name": "python",
   "nbconvert_exporter": "python",
   "pygments_lexer": "ipython3",
   "version": "3.10.7"
  },
  "orig_nbformat": 4,
  "vscode": {
   "interpreter": {
    "hash": "366c4c5561b3b7192db4ea44ad2361e84217bc9c8517193206197b435f3a3215"
   }
  }
 },
 "nbformat": 4,
 "nbformat_minor": 2
}
