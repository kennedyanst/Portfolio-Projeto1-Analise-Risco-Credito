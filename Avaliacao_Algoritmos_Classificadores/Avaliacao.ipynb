{
 "cells": [
  {
   "cell_type": "markdown",
   "metadata": {},
   "source": [
    "## <center>Avaliação dos algoritmos: Análise risco de crédito<center>\n",
    "\n",
    "#### - Árvores de decisão: 98.20\n",
    "#### - Random forest: 98.40\n",
    "#### - Knn: 98.60\n",
    "#### - SVM: 98.80\n",
    "#### - Redes neurais: 99.60"
   ]
  },
  {
   "cell_type": "markdown",
   "metadata": {},
   "source": [
    "### Turning dos parâmetros com GridSearch"
   ]
  },
  {
   "cell_type": "code",
   "execution_count": 2,
   "metadata": {},
   "outputs": [],
   "source": [
    "#Preparação dos dados\n",
    "from sklearn.model_selection import GridSearchCV #Vai escolher os melhores paramentros para cada um dos algoritmos, pesquisando em grade. CV = Cross validation (Aplicação da validação cruzada)\n",
    "from sklearn.tree import DecisionTreeClassifier #Árvore de decisão\n",
    "from sklearn.ensemble import RandomForestClassifier #Random forest\n",
    "from sklearn.neighbors import KNeighborsClassifier #KNN\n",
    "from sklearn.svm import SVC #SVM\n",
    "from sklearn.neural_network import MLPClassifier #Redes neurais"
   ]
  },
  {
   "cell_type": "code",
   "execution_count": 3,
   "metadata": {},
   "outputs": [],
   "source": [
    "import pickle\n",
    "with open(\"base.pkl\", \"rb\") as df:\n",
    "    X_base_treinamento, y_base_treinamento, X_base_teste, y_base_teste = pickle.load(df)"
   ]
  },
  {
   "cell_type": "code",
   "execution_count": 5,
   "metadata": {},
   "outputs": [
    {
     "data": {
      "text/plain": [
       "((1500, 3), (1500,))"
      ]
     },
     "execution_count": 5,
     "metadata": {},
     "output_type": "execute_result"
    }
   ],
   "source": [
    "X_base_treinamento.shape, y_base_treinamento.shape"
   ]
  },
  {
   "cell_type": "code",
   "execution_count": 6,
   "metadata": {},
   "outputs": [
    {
     "data": {
      "text/plain": [
       "((500, 3), (500,))"
      ]
     },
     "execution_count": 6,
     "metadata": {},
     "output_type": "execute_result"
    }
   ],
   "source": [
    "X_base_teste.shape, y_base_teste.shape"
   ]
  },
  {
   "cell_type": "code",
   "execution_count": 4,
   "metadata": {},
   "outputs": [],
   "source": [
    "import numpy as np\n",
    "X_base = np.concatenate((X_base_treinamento, X_base_teste), axis = 0) #Concatenação das linhas do X\n",
    "y_base = np.concatenate((y_base_treinamento, y_base_teste), axis = 0) #Concatenação das linhas do y"
   ]
  },
  {
   "cell_type": "code",
   "execution_count": 10,
   "metadata": {},
   "outputs": [],
   "source": [
    "# Árvore de decisão ------> 98.20\n",
    "paramentros = {\"criterion\": [\"gini\", \"entropy\"],\n",
    "               \"splitter\": [\"best\", \"random\"],\n",
    "               \"min_samples_split\": [2,5,10],\n",
    "               \"min_samples_leaf\": [1,5,10]}\n",
    "\n",
    "grid_search = GridSearchCV(estimator = DecisionTreeClassifier(), param_grid=paramentros)\n",
    "grid_search.fit(X_base, y_base)\n",
    "arv_melhores_paramentros = grid_search.best_params_\n",
    "arv_melhores_resultados = grid_search.best_score_"
   ]
  },
  {
   "cell_type": "code",
   "execution_count": 13,
   "metadata": {},
   "outputs": [
    {
     "name": "stdout",
     "output_type": "stream",
     "text": [
      "Os melhores parâmetros foram {'criterion': 'entropy', 'min_samples_leaf': 1, 'min_samples_split': 5, 'splitter': 'best'}. Os melhores resultados foram 98.3%\n"
     ]
    }
   ],
   "source": [
    "print(f\"Os melhores parâmetros foram {arv_melhores_paramentros}. Os melhores resultados foram {arv_melhores_resultados * 100}%\")"
   ]
  },
  {
   "cell_type": "markdown",
   "metadata": {},
   "source": [
    "#### 98.3% | AUMENTO DA PRECISÃO de 0,10%"
   ]
  },
  {
   "cell_type": "code",
   "execution_count": 15,
   "metadata": {},
   "outputs": [],
   "source": [
    "# - Random forest ---------> 98.40\n",
    "paramentros = {\"criterion\": [\"gini\", \"entropy\"],\n",
    "               \"n_estimators\": [10,40,100,150,200],\n",
    "               \"min_samples_split\": [2,5,10,15,20],\n",
    "               \"min_samples_leaf\": [1,5,10,15,20]}\n",
    "\n",
    "grid_search = GridSearchCV(estimator = RandomForestClassifier(), param_grid=paramentros)\n",
    "grid_search.fit(X_base, y_base)\n",
    "rf_melhores_paramentros = grid_search.best_params_\n",
    "rf_melhores_resultados = grid_search.best_score_"
   ]
  },
  {
   "cell_type": "code",
   "execution_count": 16,
   "metadata": {},
   "outputs": [
    {
     "name": "stdout",
     "output_type": "stream",
     "text": [
      "Os melhores parâmetros foram {'criterion': 'gini', 'min_samples_leaf': 1, 'min_samples_split': 2, 'n_estimators': 40}. Os melhores resultados foram 98.80000000000001%\n"
     ]
    }
   ],
   "source": [
    "print(f\"Os melhores parâmetros foram {rf_melhores_paramentros}. Os melhores resultados foram {rf_melhores_resultados * 100}%\")"
   ]
  },
  {
   "cell_type": "markdown",
   "metadata": {},
   "source": [
    "#### 98.8% | AUMENTO DA PRECISÃO de 0,40%"
   ]
  },
  {
   "cell_type": "code",
   "execution_count": 17,
   "metadata": {},
   "outputs": [],
   "source": [
    "# - Knn -------------> 98.60\n",
    "paramentros = {\"n_neighbors\": [3,5,10,20,25,50,100],\n",
    "              \"p\": [1,2]}\n",
    "\n",
    "grid_search = GridSearchCV(estimator = KNeighborsClassifier(), param_grid=paramentros)\n",
    "grid_search.fit(X_base, y_base)\n",
    "knn_melhores_paramentros = grid_search.best_params_\n",
    "knn_melhores_resultados = grid_search.best_score_"
   ]
  },
  {
   "cell_type": "code",
   "execution_count": 18,
   "metadata": {},
   "outputs": [
    {
     "name": "stdout",
     "output_type": "stream",
     "text": [
      "Os melhores parâmetros foram {'n_neighbors': 25, 'p': 1}. Os melhores resultados foram 98.05%\n"
     ]
    }
   ],
   "source": [
    "print(f\"Os melhores parâmetros foram {knn_melhores_paramentros}. Os melhores resultados foram {knn_melhores_resultados * 100}%\")"
   ]
  },
  {
   "cell_type": "markdown",
   "metadata": {},
   "source": [
    "#### 98.05% | DIMINUIÇÃO DA PRECISÃO em 0,55%"
   ]
  },
  {
   "cell_type": "code",
   "execution_count": 5,
   "metadata": {},
   "outputs": [],
   "source": [
    "# - SVM ---------------> 98.80\n",
    "paramentros = {\"tol\": [0.001, 0.0001, 0.00001, 0.000001, 0.0000001],\n",
    "            \"C\": [1.0, 1.5, 2.0, 2.5, 3.0, 5.0],\n",
    "            \"kernel\": [\"rbf\", \"linear\", \"poly\", \"sigmoid\"]}\n",
    "\n",
    "grid_search = GridSearchCV(estimator = SVC(), param_grid=paramentros)\n",
    "grid_search.fit(X_base, y_base)\n",
    "svm_melhores_paramentros = grid_search.best_params_\n",
    "svm_melhores_resultados = grid_search.best_score_"
   ]
  },
  {
   "cell_type": "code",
   "execution_count": 6,
   "metadata": {},
   "outputs": [
    {
     "name": "stdout",
     "output_type": "stream",
     "text": [
      "Os melhores parâmetros foram {'C': 5.0, 'kernel': 'rbf', 'tol': 0.001}. Os melhores resultados foram 98.50000000000001%\n"
     ]
    }
   ],
   "source": [
    "print(f\"Os melhores parâmetros foram {svm_melhores_paramentros}. Os melhores resultados foram {svm_melhores_resultados * 100}%\")"
   ]
  },
  {
   "cell_type": "markdown",
   "metadata": {},
   "source": [
    "#### 98.50% | DIMINUIÇÃO DA PRECISÃO em 0,30%"
   ]
  },
  {
   "cell_type": "code",
   "execution_count": null,
   "metadata": {},
   "outputs": [],
   "source": [
    "# - Redes neurais ----------> 99.60\n",
    "paramentros = {\"activation\": [\"relu\", \"logistic\", \"tahn\"],\n",
    "               \"solver\": [\"adam\", \"sgd\"],\n",
    "               \"batch_size\": [10, 56, 100, 200, 350]}\n",
    "\n",
    "grid_search = GridSearchCV(estimator = MLPClassifier(), param_grid=paramentros)\n",
    "grid_search.fit(X_base, y_base)\n",
    "rn_melhores_paramentros = grid_search.best_params_\n",
    "rn_melhores_resultados = grid_search.best_score_"
   ]
  },
  {
   "cell_type": "code",
   "execution_count": 9,
   "metadata": {},
   "outputs": [
    {
     "name": "stdout",
     "output_type": "stream",
     "text": [
      "Os melhores parâmetros foram {'activation': 'relu', 'batch_size': 56, 'solver': 'adam'}. Os melhores resultados foram 99.70000000000002%\n"
     ]
    }
   ],
   "source": [
    "print(f\"Os melhores parâmetros foram {rn_melhores_paramentros}. Os melhores resultados foram {rn_melhores_resultados * 100}%\")"
   ]
  },
  {
   "cell_type": "markdown",
   "metadata": {},
   "source": [
    "#### 99.70% | AUMENTO EM PRECISÃO de 0,10%"
   ]
  },
  {
   "cell_type": "markdown",
   "metadata": {},
   "source": [
    "# FIM "
   ]
  }
 ],
 "metadata": {
  "kernelspec": {
   "display_name": "Python 3.10.7 64-bit (microsoft store)",
   "language": "python",
   "name": "python3"
  },
  "language_info": {
   "codemirror_mode": {
    "name": "ipython",
    "version": 3
   },
   "file_extension": ".py",
   "mimetype": "text/x-python",
   "name": "python",
   "nbconvert_exporter": "python",
   "pygments_lexer": "ipython3",
   "version": "3.10.7"
  },
  "orig_nbformat": 4,
  "vscode": {
   "interpreter": {
    "hash": "366c4c5561b3b7192db4ea44ad2361e84217bc9c8517193206197b435f3a3215"
   }
  }
 },
 "nbformat": 4,
 "nbformat_minor": 2
}
